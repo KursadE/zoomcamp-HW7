{
 "cells": [
  {
   "cell_type": "code",
   "execution_count": 2,
   "metadata": {
    "_cell_guid": "b1076dfc-b9ad-4769-8c92-a6c4dae69d19",
    "_uuid": "8f2839f25d086af736a60e9eeb907d3b93b6e0e5",
    "execution": {
     "iopub.execute_input": "2021-10-30T21:25:39.878971Z",
     "iopub.status.busy": "2021-10-30T21:25:39.878639Z",
     "iopub.status.idle": "2021-10-30T21:25:39.888804Z",
     "shell.execute_reply": "2021-10-30T21:25:39.888164Z",
     "shell.execute_reply.started": "2021-10-30T21:25:39.878934Z"
    }
   },
   "outputs": [],
   "source": [
    "# This Python 3 environment comes with many helpful analytics libraries installed\n",
    "# It is defined by the kaggle/python Docker image: https://github.com/kaggle/docker-python\n",
    "# For example, here's several helpful packages to load\n",
    "\n",
    "import numpy as np # linear algebra\n",
    "import pandas as pd # data processing, CSV file I/O (e.g. pd.read_csv)"
   ]
  },
  {
   "cell_type": "code",
   "execution_count": 3,
   "metadata": {
    "execution": {
     "iopub.execute_input": "2021-10-30T21:25:39.890689Z",
     "iopub.status.busy": "2021-10-30T21:25:39.890285Z",
     "iopub.status.idle": "2021-10-30T21:25:39.903702Z",
     "shell.execute_reply": "2021-10-30T21:25:39.902952Z",
     "shell.execute_reply.started": "2021-10-30T21:25:39.890624Z"
    }
   },
   "outputs": [],
   "source": [
    "# import usual suspects\n",
    "\n",
    "import seaborn as sns\n",
    "from matplotlib import pyplot as plt\n",
    "%matplotlib inline"
   ]
  },
  {
   "cell_type": "code",
   "execution_count": 4,
   "metadata": {
    "execution": {
     "iopub.execute_input": "2021-10-30T21:25:39.905419Z",
     "iopub.status.busy": "2021-10-30T21:25:39.905026Z",
     "iopub.status.idle": "2021-10-30T21:25:39.915893Z",
     "shell.execute_reply": "2021-10-30T21:25:39.915097Z",
     "shell.execute_reply.started": "2021-10-30T21:25:39.905373Z"
    }
   },
   "outputs": [],
   "source": [
    "# import other useful stuff\n",
    "\n",
    "from IPython.display import display\n",
    "from sklearn.metrics import mutual_info_score\n",
    "\n",
    "from sklearn.model_selection import train_test_split\n",
    "\n",
    "from sklearn.feature_extraction import DictVectorizer\n",
    "\n",
    "from sklearn.linear_model import LogisticRegression\n",
    "from sklearn.tree import DecisionTreeClassifier\n",
    "\n",
    "from sklearn.metrics import accuracy_score\n",
    "from sklearn.metrics import roc_curve\n",
    "from sklearn.metrics import roc_auc_score"
   ]
  },
  {
   "cell_type": "code",
   "execution_count": 6,
   "metadata": {},
   "outputs": [
    {
     "name": "stdout",
     "output_type": "stream",
     "text": [
      "--2021-11-01 10:31:07--  https://github.com/KursadE/zoomcamp-HW7/blob/main/traindata_creditcard.csv\n",
      "Resolving github.com (github.com)... 140.82.121.3\n",
      "Connecting to github.com (github.com)|140.82.121.3|:443... connected.\n",
      "HTTP request sent, awaiting response... 200 OK\n",
      "Length: unspecified [text/html]\n",
      "Saving to: ‘traindata_creditcard.csv.1’\n",
      "\n",
      "traindata_creditcar     [ <=>                ] 131,42K  --.-KB/s    in 0,07s   \n",
      "\n",
      "2021-11-01 10:31:09 (1,93 MB/s) - ‘traindata_creditcard.csv.1’ saved [134572]\n",
      "\n"
     ]
    }
   ],
   "source": [
    "!wget https://github.com/KursadE/zoomcamp-HW7/blob/main/traindata_creditcard.csv"
   ]
  },
  {
   "cell_type": "code",
   "execution_count": 7,
   "metadata": {
    "execution": {
     "iopub.execute_input": "2021-10-30T21:25:39.917483Z",
     "iopub.status.busy": "2021-10-30T21:25:39.916941Z",
     "iopub.status.idle": "2021-10-30T21:25:40.274317Z",
     "shell.execute_reply": "2021-10-30T21:25:40.273207Z",
     "shell.execute_reply.started": "2021-10-30T21:25:39.917448Z"
    }
   },
   "outputs": [],
   "source": [
    "# put data into data frame\n",
    "df = pd.read_csv(\"traindata_creditcard.csv\")"
   ]
  },
  {
   "cell_type": "code",
   "execution_count": 8,
   "metadata": {
    "execution": {
     "iopub.execute_input": "2021-10-30T21:25:40.749018Z",
     "iopub.status.busy": "2021-10-30T21:25:40.748682Z",
     "iopub.status.idle": "2021-10-30T21:25:40.76447Z",
     "shell.execute_reply": "2021-10-30T21:25:40.763883Z",
     "shell.execute_reply.started": "2021-10-30T21:25:40.748974Z"
    }
   },
   "outputs": [
    {
     "data": {
      "text/html": [
       "<div>\n",
       "<style scoped>\n",
       "    .dataframe tbody tr th:only-of-type {\n",
       "        vertical-align: middle;\n",
       "    }\n",
       "\n",
       "    .dataframe tbody tr th {\n",
       "        vertical-align: top;\n",
       "    }\n",
       "\n",
       "    .dataframe thead th {\n",
       "        text-align: right;\n",
       "    }\n",
       "</style>\n",
       "<table border=\"1\" class=\"dataframe\">\n",
       "  <thead>\n",
       "    <tr style=\"text-align: right;\">\n",
       "      <th></th>\n",
       "      <th>ID</th>\n",
       "      <th>Gender</th>\n",
       "      <th>Age</th>\n",
       "      <th>Region_Code</th>\n",
       "      <th>Occupation</th>\n",
       "      <th>Channel_Code</th>\n",
       "      <th>Vintage</th>\n",
       "      <th>Credit_Product</th>\n",
       "      <th>Avg_Account_Balance</th>\n",
       "      <th>Is_Active</th>\n",
       "      <th>Is_Lead</th>\n",
       "    </tr>\n",
       "  </thead>\n",
       "  <tbody>\n",
       "    <tr>\n",
       "      <th>0</th>\n",
       "      <td>NNVBBKZB</td>\n",
       "      <td>Female</td>\n",
       "      <td>73</td>\n",
       "      <td>RG268</td>\n",
       "      <td>Other</td>\n",
       "      <td>X3</td>\n",
       "      <td>43</td>\n",
       "      <td>No</td>\n",
       "      <td>1045696</td>\n",
       "      <td>No</td>\n",
       "      <td>0</td>\n",
       "    </tr>\n",
       "    <tr>\n",
       "      <th>1</th>\n",
       "      <td>IDD62UNG</td>\n",
       "      <td>Female</td>\n",
       "      <td>30</td>\n",
       "      <td>RG277</td>\n",
       "      <td>Salaried</td>\n",
       "      <td>X1</td>\n",
       "      <td>32</td>\n",
       "      <td>No</td>\n",
       "      <td>581988</td>\n",
       "      <td>No</td>\n",
       "      <td>0</td>\n",
       "    </tr>\n",
       "    <tr>\n",
       "      <th>2</th>\n",
       "      <td>HD3DSEMC</td>\n",
       "      <td>Female</td>\n",
       "      <td>56</td>\n",
       "      <td>RG268</td>\n",
       "      <td>Self_Employed</td>\n",
       "      <td>X3</td>\n",
       "      <td>26</td>\n",
       "      <td>No</td>\n",
       "      <td>1484315</td>\n",
       "      <td>Yes</td>\n",
       "      <td>0</td>\n",
       "    </tr>\n",
       "    <tr>\n",
       "      <th>3</th>\n",
       "      <td>BF3NC7KV</td>\n",
       "      <td>Male</td>\n",
       "      <td>34</td>\n",
       "      <td>RG270</td>\n",
       "      <td>Salaried</td>\n",
       "      <td>X1</td>\n",
       "      <td>19</td>\n",
       "      <td>No</td>\n",
       "      <td>470454</td>\n",
       "      <td>No</td>\n",
       "      <td>0</td>\n",
       "    </tr>\n",
       "    <tr>\n",
       "      <th>4</th>\n",
       "      <td>TEASRWXV</td>\n",
       "      <td>Female</td>\n",
       "      <td>30</td>\n",
       "      <td>RG282</td>\n",
       "      <td>Salaried</td>\n",
       "      <td>X1</td>\n",
       "      <td>33</td>\n",
       "      <td>No</td>\n",
       "      <td>886787</td>\n",
       "      <td>No</td>\n",
       "      <td>0</td>\n",
       "    </tr>\n",
       "  </tbody>\n",
       "</table>\n",
       "</div>"
      ],
      "text/plain": [
       "         ID  Gender  Age Region_Code     Occupation Channel_Code  Vintage  \\\n",
       "0  NNVBBKZB  Female   73       RG268          Other           X3       43   \n",
       "1  IDD62UNG  Female   30       RG277       Salaried           X1       32   \n",
       "2  HD3DSEMC  Female   56       RG268  Self_Employed           X3       26   \n",
       "3  BF3NC7KV    Male   34       RG270       Salaried           X1       19   \n",
       "4  TEASRWXV  Female   30       RG282       Salaried           X1       33   \n",
       "\n",
       "  Credit_Product  Avg_Account_Balance Is_Active  Is_Lead  \n",
       "0             No              1045696        No        0  \n",
       "1             No               581988        No        0  \n",
       "2             No              1484315       Yes        0  \n",
       "3             No               470454        No        0  \n",
       "4             No               886787        No        0  "
      ]
     },
     "execution_count": 8,
     "metadata": {},
     "output_type": "execute_result"
    }
   ],
   "source": [
    "df.head()"
   ]
  },
  {
   "cell_type": "markdown",
   "metadata": {},
   "source": [
    "# Data Preparation and Data Cleaning"
   ]
  },
  {
   "cell_type": "code",
   "execution_count": null,
   "metadata": {
    "execution": {
     "iopub.execute_input": "2021-10-30T21:25:40.771894Z",
     "iopub.status.busy": "2021-10-30T21:25:40.771283Z",
     "iopub.status.idle": "2021-10-30T21:25:40.779833Z",
     "shell.execute_reply": "2021-10-30T21:25:40.778932Z",
     "shell.execute_reply.started": "2021-10-30T21:25:40.771846Z"
    }
   },
   "outputs": [],
   "source": [
    "# check column data types\n",
    "\n",
    "df.dtypes"
   ]
  },
  {
   "cell_type": "code",
   "execution_count": null,
   "metadata": {
    "execution": {
     "iopub.execute_input": "2021-10-30T21:25:40.782289Z",
     "iopub.status.busy": "2021-10-30T21:25:40.781409Z",
     "iopub.status.idle": "2021-10-30T21:25:40.790489Z",
     "shell.execute_reply": "2021-10-30T21:25:40.789567Z",
     "shell.execute_reply.started": "2021-10-30T21:25:40.782253Z"
    }
   },
   "outputs": [],
   "source": [
    "# lower case column names\n",
    "\n",
    "df.columns = df.columns.str.lower()"
   ]
  },
  {
   "cell_type": "code",
   "execution_count": null,
   "metadata": {
    "execution": {
     "iopub.execute_input": "2021-10-30T21:25:40.792014Z",
     "iopub.status.busy": "2021-10-30T21:25:40.791722Z",
     "iopub.status.idle": "2021-10-30T21:25:40.803608Z",
     "shell.execute_reply": "2021-10-30T21:25:40.802736Z",
     "shell.execute_reply.started": "2021-10-30T21:25:40.791965Z"
    }
   },
   "outputs": [],
   "source": [
    "# define categorical and numerical columns\n",
    "\n",
    "categorical = ['gender', 'region_code', 'occupation', 'channel_code', 'credit_product', 'is_active']\n",
    "numerical = ['age', 'vintage', 'avg_account_balance']"
   ]
  },
  {
   "cell_type": "code",
   "execution_count": null,
   "metadata": {
    "execution": {
     "iopub.execute_input": "2021-10-30T21:25:40.805132Z",
     "iopub.status.busy": "2021-10-30T21:25:40.804887Z",
     "iopub.status.idle": "2021-10-30T21:25:42.562508Z",
     "shell.execute_reply": "2021-10-30T21:25:42.561703Z",
     "shell.execute_reply.started": "2021-10-30T21:25:40.805101Z"
    }
   },
   "outputs": [],
   "source": [
    "# lower case and eliminate space in data records\n",
    "\n",
    "for col in df[categorical].columns:\n",
    "    df[col] = df[col].str.lower().str.replace(' ', '_')"
   ]
  },
  {
   "cell_type": "code",
   "execution_count": null,
   "metadata": {
    "execution": {
     "iopub.execute_input": "2021-10-30T21:25:42.564753Z",
     "iopub.status.busy": "2021-10-30T21:25:42.564469Z",
     "iopub.status.idle": "2021-10-30T21:25:42.763007Z",
     "shell.execute_reply": "2021-10-30T21:25:42.762086Z",
     "shell.execute_reply.started": "2021-10-30T21:25:42.564711Z"
    }
   },
   "outputs": [],
   "source": [
    "# check null values\n",
    "\n",
    "df.isnull().sum()"
   ]
  },
  {
   "cell_type": "code",
   "execution_count": null,
   "metadata": {
    "execution": {
     "iopub.execute_input": "2021-10-30T21:25:42.764607Z",
     "iopub.status.busy": "2021-10-30T21:25:42.764345Z",
     "iopub.status.idle": "2021-10-30T21:25:42.804464Z",
     "shell.execute_reply": "2021-10-30T21:25:42.803342Z",
     "shell.execute_reply.started": "2021-10-30T21:25:42.764577Z"
    }
   },
   "outputs": [],
   "source": [
    "# assign new category 'Unk' to null values\n",
    "\n",
    "df['credit_product'] = df['credit_product'].fillna('Unk')"
   ]
  },
  {
   "cell_type": "code",
   "execution_count": null,
   "metadata": {
    "execution": {
     "iopub.execute_input": "2021-10-30T21:25:42.806018Z",
     "iopub.status.busy": "2021-10-30T21:25:42.805776Z",
     "iopub.status.idle": "2021-10-30T21:25:43.102468Z",
     "shell.execute_reply": "2021-10-30T21:25:43.101516Z",
     "shell.execute_reply.started": "2021-10-30T21:25:42.805988Z"
    }
   },
   "outputs": [],
   "source": [
    "# check unique entries in categorical features\n",
    "\n",
    "for col in df[categorical].columns:\n",
    "    print(col)\n",
    "    print(df[col].unique())\n",
    "    print(df[col].nunique())\n",
    "    print()"
   ]
  },
  {
   "cell_type": "code",
   "execution_count": null,
   "metadata": {
    "execution": {
     "iopub.execute_input": "2021-10-30T21:25:43.104943Z",
     "iopub.status.busy": "2021-10-30T21:25:43.104094Z",
     "iopub.status.idle": "2021-10-30T21:25:43.418474Z",
     "shell.execute_reply": "2021-10-30T21:25:43.417559Z",
     "shell.execute_reply.started": "2021-10-30T21:25:43.104901Z"
    }
   },
   "outputs": [],
   "source": [
    "# check number of unique entries represented in data\n",
    "\n",
    "for col in df[categorical].columns:\n",
    "    print(col)\n",
    "    print(df[col].value_counts())\n",
    "    print()"
   ]
  },
  {
   "cell_type": "markdown",
   "metadata": {},
   "source": [
    "# Train, Validation, Test Split"
   ]
  },
  {
   "cell_type": "code",
   "execution_count": null,
   "metadata": {
    "execution": {
     "iopub.execute_input": "2021-10-30T21:25:43.420391Z",
     "iopub.status.busy": "2021-10-30T21:25:43.419717Z",
     "iopub.status.idle": "2021-10-30T21:25:43.670222Z",
     "shell.execute_reply": "2021-10-30T21:25:43.669397Z",
     "shell.execute_reply.started": "2021-10-30T21:25:43.420355Z"
    }
   },
   "outputs": [],
   "source": [
    "df_full_train, df_test = train_test_split(df, test_size=0.2, random_state=42)\n",
    "df_train, df_val = train_test_split(df_full_train, test_size=0.25, random_state=42)"
   ]
  },
  {
   "cell_type": "code",
   "execution_count": null,
   "metadata": {
    "execution": {
     "iopub.execute_input": "2021-10-30T21:25:43.671846Z",
     "iopub.status.busy": "2021-10-30T21:25:43.671574Z",
     "iopub.status.idle": "2021-10-30T21:25:43.687455Z",
     "shell.execute_reply": "2021-10-30T21:25:43.686604Z",
     "shell.execute_reply.started": "2021-10-30T21:25:43.671816Z"
    }
   },
   "outputs": [],
   "source": [
    "df_full_train.head()"
   ]
  },
  {
   "cell_type": "code",
   "execution_count": null,
   "metadata": {
    "execution": {
     "iopub.execute_input": "2021-10-30T21:25:43.68946Z",
     "iopub.status.busy": "2021-10-30T21:25:43.68914Z",
     "iopub.status.idle": "2021-10-30T21:25:43.824969Z",
     "shell.execute_reply": "2021-10-30T21:25:43.824054Z",
     "shell.execute_reply.started": "2021-10-30T21:25:43.689414Z"
    }
   },
   "outputs": [],
   "source": [
    "df_full_train = df_full_train.reset_index(drop=True)\n",
    "df_train = df_train.reset_index(drop=True)\n",
    "df_val = df_val.reset_index(drop=True)\n",
    "df_test = df_test.reset_index(drop=True)"
   ]
  },
  {
   "cell_type": "code",
   "execution_count": null,
   "metadata": {
    "execution": {
     "iopub.execute_input": "2021-10-30T21:25:43.828435Z",
     "iopub.status.busy": "2021-10-30T21:25:43.828177Z",
     "iopub.status.idle": "2021-10-30T21:25:43.834083Z",
     "shell.execute_reply": "2021-10-30T21:25:43.833146Z",
     "shell.execute_reply.started": "2021-10-30T21:25:43.828406Z"
    }
   },
   "outputs": [],
   "source": [
    "y_train = df_train['is_lead']\n",
    "y_val = df_val['is_lead']\n",
    "y_test = df_test['is_lead']"
   ]
  },
  {
   "cell_type": "code",
   "execution_count": null,
   "metadata": {
    "execution": {
     "iopub.execute_input": "2021-10-30T21:25:43.835869Z",
     "iopub.status.busy": "2021-10-30T21:25:43.835208Z",
     "iopub.status.idle": "2021-10-30T21:25:43.847206Z",
     "shell.execute_reply": "2021-10-30T21:25:43.846506Z",
     "shell.execute_reply.started": "2021-10-30T21:25:43.835835Z"
    }
   },
   "outputs": [],
   "source": [
    "y_full_train = df_full_train['is_lead']\n",
    "del df_full_train['is_lead']\n",
    "\n",
    "del df_test['is_lead']"
   ]
  },
  {
   "cell_type": "markdown",
   "metadata": {},
   "source": [
    "# EDA & Feature Importance Analysis"
   ]
  },
  {
   "cell_type": "code",
   "execution_count": null,
   "metadata": {
    "execution": {
     "iopub.execute_input": "2021-10-30T21:25:43.849176Z",
     "iopub.status.busy": "2021-10-30T21:25:43.848825Z",
     "iopub.status.idle": "2021-10-30T21:25:43.864207Z",
     "shell.execute_reply": "2021-10-30T21:25:43.863043Z",
     "shell.execute_reply.started": "2021-10-30T21:25:43.849131Z"
    }
   },
   "outputs": [],
   "source": [
    "# run EDA on train set\n",
    "# check distribution of target - 'is_lead'\n",
    "# it seems to be an unbalanced dataset\n",
    "\n",
    "df_train['is_lead'].value_counts(normalize=False)"
   ]
  },
  {
   "cell_type": "code",
   "execution_count": null,
   "metadata": {
    "execution": {
     "iopub.execute_input": "2021-10-30T21:25:43.865999Z",
     "iopub.status.busy": "2021-10-30T21:25:43.865755Z",
     "iopub.status.idle": "2021-10-30T21:25:43.875554Z",
     "shell.execute_reply": "2021-10-30T21:25:43.874836Z",
     "shell.execute_reply.started": "2021-10-30T21:25:43.86597Z"
    }
   },
   "outputs": [],
   "source": [
    "# calculate the weight of target\n",
    "\n",
    "is_lead_overall = df_train['is_lead'].mean()\n",
    "is_lead_overall"
   ]
  },
  {
   "cell_type": "code",
   "execution_count": null,
   "metadata": {
    "execution": {
     "iopub.execute_input": "2021-10-30T21:25:43.877041Z",
     "iopub.status.busy": "2021-10-30T21:25:43.876762Z",
     "iopub.status.idle": "2021-10-30T21:25:44.19319Z",
     "shell.execute_reply": "2021-10-30T21:25:44.192245Z",
     "shell.execute_reply.started": "2021-10-30T21:25:43.877011Z"
    }
   },
   "outputs": [],
   "source": [
    "# check categories' target distribution to gain insight about data\n",
    "# gender and occupation can be mildly important\n",
    "# whereas some of the regions seem important\n",
    "# as well as channel code  \n",
    "# and not having a credit product\n",
    "\n",
    "for c in categorical:\n",
    "    df_group = df_train.groupby(c)['is_lead'].agg(['mean', 'count'])\n",
    "    df_group['opportunity'] = df_group['mean'] / is_lead_overall\n",
    "    display(df_group.sort_values(by='mean', ascending=False))\n",
    "    print()\n",
    "    print()"
   ]
  },
  {
   "cell_type": "code",
   "execution_count": null,
   "metadata": {
    "execution": {
     "iopub.execute_input": "2021-10-30T21:25:44.194817Z",
     "iopub.status.busy": "2021-10-30T21:25:44.194389Z",
     "iopub.status.idle": "2021-10-30T21:25:44.199576Z",
     "shell.execute_reply": "2021-10-30T21:25:44.198732Z",
     "shell.execute_reply.started": "2021-10-30T21:25:44.194778Z"
    }
   },
   "outputs": [],
   "source": [
    "# check mutual_info_score\n",
    "\n",
    "def mutual_info_lead_score(series):\n",
    "    return mutual_info_score(series, df_train['is_lead'])"
   ]
  },
  {
   "cell_type": "code",
   "execution_count": null,
   "metadata": {
    "execution": {
     "iopub.execute_input": "2021-10-30T21:25:44.201184Z",
     "iopub.status.busy": "2021-10-30T21:25:44.200953Z",
     "iopub.status.idle": "2021-10-30T21:25:46.382428Z",
     "shell.execute_reply": "2021-10-30T21:25:46.381537Z",
     "shell.execute_reply.started": "2021-10-30T21:25:44.201154Z"
    }
   },
   "outputs": [],
   "source": [
    "# having a credit product and channel code are important features\n",
    "# though region itself do not seem to matter \n",
    "\n",
    "mi = df_train[categorical].apply(mutual_info_lead_score)\n",
    "mi.sort_values(ascending=False)"
   ]
  },
  {
   "cell_type": "code",
   "execution_count": null,
   "metadata": {
    "execution": {
     "iopub.execute_input": "2021-10-30T21:25:46.383866Z",
     "iopub.status.busy": "2021-10-30T21:25:46.383591Z",
     "iopub.status.idle": "2021-10-30T21:25:46.419476Z",
     "shell.execute_reply": "2021-10-30T21:25:46.418798Z",
     "shell.execute_reply.started": "2021-10-30T21:25:46.383836Z"
    }
   },
   "outputs": [],
   "source": [
    "# check distribution of numerical values\n",
    "\n",
    "df_train[numerical].describe()"
   ]
  },
  {
   "cell_type": "code",
   "execution_count": null,
   "metadata": {
    "execution": {
     "iopub.execute_input": "2021-10-30T21:25:46.421285Z",
     "iopub.status.busy": "2021-10-30T21:25:46.420983Z",
     "iopub.status.idle": "2021-10-30T21:25:46.802534Z",
     "shell.execute_reply": "2021-10-30T21:25:46.801714Z",
     "shell.execute_reply.started": "2021-10-30T21:25:46.421243Z"
    }
   },
   "outputs": [],
   "source": [
    "sns.histplot(data=df_train, x=\"age\")"
   ]
  },
  {
   "cell_type": "code",
   "execution_count": null,
   "metadata": {
    "execution": {
     "iopub.execute_input": "2021-10-30T21:25:46.804621Z",
     "iopub.status.busy": "2021-10-30T21:25:46.804353Z",
     "iopub.status.idle": "2021-10-30T21:25:47.197511Z",
     "shell.execute_reply": "2021-10-30T21:25:47.196045Z",
     "shell.execute_reply.started": "2021-10-30T21:25:46.804573Z"
    }
   },
   "outputs": [],
   "source": [
    "sns.histplot(data=df_train, x=\"vintage\")"
   ]
  },
  {
   "cell_type": "code",
   "execution_count": null,
   "metadata": {
    "execution": {
     "iopub.execute_input": "2021-10-30T21:25:47.199964Z",
     "iopub.status.busy": "2021-10-30T21:25:47.199288Z",
     "iopub.status.idle": "2021-10-30T21:25:48.21886Z",
     "shell.execute_reply": "2021-10-30T21:25:48.218009Z",
     "shell.execute_reply.started": "2021-10-30T21:25:47.199791Z"
    }
   },
   "outputs": [],
   "source": [
    "sns.histplot(data=df_train, x=\"avg_account_balance\")"
   ]
  },
  {
   "cell_type": "code",
   "execution_count": null,
   "metadata": {
    "execution": {
     "iopub.execute_input": "2021-10-30T21:25:48.221067Z",
     "iopub.status.busy": "2021-10-30T21:25:48.220277Z",
     "iopub.status.idle": "2021-10-30T21:25:48.536651Z",
     "shell.execute_reply": "2021-10-30T21:25:48.534731Z",
     "shell.execute_reply.started": "2021-10-30T21:25:48.221011Z"
    }
   },
   "outputs": [],
   "source": [
    "# there is correlation between 'age' and 'vintage'\n",
    "# yet these are different features\n",
    "# therefore, there is no need to eliminate one of the features\n",
    "\n",
    "sns.heatmap(df_train[numerical].corr(),annot = True)"
   ]
  },
  {
   "cell_type": "code",
   "execution_count": null,
   "metadata": {
    "execution": {
     "iopub.execute_input": "2021-10-30T21:25:48.538249Z",
     "iopub.status.busy": "2021-10-30T21:25:48.538026Z",
     "iopub.status.idle": "2021-10-30T21:25:48.558953Z",
     "shell.execute_reply": "2021-10-30T21:25:48.558157Z",
     "shell.execute_reply.started": "2021-10-30T21:25:48.538221Z"
    }
   },
   "outputs": [],
   "source": [
    "# all numerical features seem to have effect on target\n",
    "\n",
    "df_train[numerical].corrwith(df_train['is_lead']).abs()"
   ]
  },
  {
   "cell_type": "code",
   "execution_count": null,
   "metadata": {
    "execution": {
     "iopub.execute_input": "2021-10-30T21:25:48.56121Z",
     "iopub.status.busy": "2021-10-30T21:25:48.560385Z",
     "iopub.status.idle": "2021-10-30T21:25:48.564921Z",
     "shell.execute_reply": "2021-10-30T21:25:48.563972Z",
     "shell.execute_reply.started": "2021-10-30T21:25:48.561172Z"
    }
   },
   "outputs": [],
   "source": [
    "# eliminate less important features and redefine categorical columns\n",
    "\n",
    "categorical = ['occupation', 'channel_code', 'credit_product']"
   ]
  },
  {
   "cell_type": "code",
   "execution_count": null,
   "metadata": {
    "execution": {
     "iopub.execute_input": "2021-10-30T21:25:48.567917Z",
     "iopub.status.busy": "2021-10-30T21:25:48.566097Z",
     "iopub.status.idle": "2021-10-30T21:25:48.57823Z",
     "shell.execute_reply": "2021-10-30T21:25:48.577471Z",
     "shell.execute_reply.started": "2021-10-30T21:25:48.567867Z"
    }
   },
   "outputs": [],
   "source": [
    "# make baseline prediction with Logistic Regression to decide to continue feature engineering\n",
    "\n",
    "# define train function\n",
    "def train(df, y, C=1.0):\n",
    "    dicts = df[train_columns].to_dict(orient='records')\n",
    "\n",
    "    dv = DictVectorizer(sparse=False)\n",
    "    X_train = dv.fit_transform(dicts)\n",
    "\n",
    "    model = LogisticRegression(solver='lbfgs', C=C, max_iter=1000)\n",
    "    model.fit(X_train, y)\n",
    "    \n",
    "    return dv, model"
   ]
  },
  {
   "cell_type": "code",
   "execution_count": null,
   "metadata": {
    "execution": {
     "iopub.execute_input": "2021-10-30T21:25:48.579802Z",
     "iopub.status.busy": "2021-10-30T21:25:48.579174Z",
     "iopub.status.idle": "2021-10-30T21:25:48.590496Z",
     "shell.execute_reply": "2021-10-30T21:25:48.589856Z",
     "shell.execute_reply.started": "2021-10-30T21:25:48.57977Z"
    }
   },
   "outputs": [],
   "source": [
    "# define train function\n",
    "\n",
    "def predict(df, dv, model):\n",
    "    dicts = df[train_columns].to_dict(orient='records')\n",
    "\n",
    "    X = dv.transform(dicts)\n",
    "    y_pred = model.predict_proba(X)[:, 1]\n",
    "\n",
    "    return y_pred"
   ]
  },
  {
   "cell_type": "code",
   "execution_count": null,
   "metadata": {
    "execution": {
     "iopub.execute_input": "2021-10-30T21:25:48.592241Z",
     "iopub.status.busy": "2021-10-30T21:25:48.591826Z",
     "iopub.status.idle": "2021-10-30T21:25:52.800953Z",
     "shell.execute_reply": "2021-10-30T21:25:52.800078Z",
     "shell.execute_reply.started": "2021-10-30T21:25:48.59221Z"
    }
   },
   "outputs": [],
   "source": [
    "# make baseline prediction & return roc_auc_score\n",
    "\n",
    "train_columns = categorical + numerical\n",
    "dv, model = train(df_train, y_train)\n",
    "y_pred = predict(df_val, dv, model)\n",
    "#accuracy_score(y_val, y_pred >= 0.5)\n",
    "roc_auc_score(y_val, y_pred)"
   ]
  },
  {
   "cell_type": "code",
   "execution_count": null,
   "metadata": {
    "execution": {
     "iopub.execute_input": "2021-10-30T21:25:52.803569Z",
     "iopub.status.busy": "2021-10-30T21:25:52.802797Z",
     "iopub.status.idle": "2021-10-30T21:25:52.825202Z",
     "shell.execute_reply": "2021-10-30T21:25:52.824268Z",
     "shell.execute_reply.started": "2021-10-30T21:25:52.803518Z"
    }
   },
   "outputs": [],
   "source": [
    "fpr, tpr, thresholds = roc_curve(y_val, y_pred)"
   ]
  },
  {
   "cell_type": "code",
   "execution_count": null,
   "metadata": {
    "execution": {
     "iopub.execute_input": "2021-10-30T21:25:52.827939Z",
     "iopub.status.busy": "2021-10-30T21:25:52.827266Z",
     "iopub.status.idle": "2021-10-30T21:25:53.105334Z",
     "shell.execute_reply": "2021-10-30T21:25:53.104485Z",
     "shell.execute_reply.started": "2021-10-30T21:25:52.827888Z"
    }
   },
   "outputs": [],
   "source": [
    "# poor performance of the base model\n",
    "\n",
    "plt.figure(figsize=(5, 5))\n",
    "\n",
    "plt.plot(fpr, tpr, label='Model')\n",
    "plt.plot([0, 1], [0, 1], label='Random', linestyle='--')\n",
    "\n",
    "plt.xlabel('FPR')\n",
    "plt.ylabel('TPR')\n",
    "\n",
    "plt.legend()"
   ]
  },
  {
   "cell_type": "markdown",
   "metadata": {},
   "source": [
    "# Feature Engineering"
   ]
  },
  {
   "cell_type": "code",
   "execution_count": null,
   "metadata": {
    "execution": {
     "iopub.execute_input": "2021-10-30T21:25:53.106739Z",
     "iopub.status.busy": "2021-10-30T21:25:53.106476Z",
     "iopub.status.idle": "2021-10-30T21:25:53.135903Z",
     "shell.execute_reply": "2021-10-30T21:25:53.135051Z",
     "shell.execute_reply.started": "2021-10-30T21:25:53.106692Z"
    }
   },
   "outputs": [],
   "source": [
    "# group 'age' under 'age_cat' feature\n",
    "# group 'vintage' under 'vintage_cat' feature\n",
    "# group 'avg_account_balance' under 'avg_account_balance_cat' feature\n",
    "\n",
    "def cat(df):\n",
    "    df['age_cat'] = pd.cut(df['age'],bins=[20,29,39,49,59,69,79,89],\n",
    "       labels=['20-29','30-39','40-49','50-59','60-69','70-79','80-89'])\n",
    "    df['vintage_cat'] = pd.cut(df['vintage'],bins=[0,19,39,59,79,99,119,139],\n",
    "       labels=['0-19','20-39','40-59','60-79','80-99','100-119','120-139'])\n",
    "    df['avg_account_balance_cat'] = pd.qcut(df['avg_account_balance'], q=10, \n",
    "                                                  labels=['0','1','2','3','4','5','6','7','8','9'])"
   ]
  },
  {
   "cell_type": "code",
   "execution_count": null,
   "metadata": {},
   "outputs": [],
   "source": [
    "cat(df_train)\n",
    "cat(df_val)\n",
    "cat(df_test)\n",
    "cat(df_full_train)"
   ]
  },
  {
   "cell_type": "code",
   "execution_count": null,
   "metadata": {
    "execution": {
     "iopub.execute_input": "2021-10-30T21:25:53.244957Z",
     "iopub.status.busy": "2021-10-30T21:25:53.244681Z",
     "iopub.status.idle": "2021-10-30T21:25:53.24908Z",
     "shell.execute_reply": "2021-10-30T21:25:53.248331Z",
     "shell.execute_reply.started": "2021-10-30T21:25:53.244927Z"
    }
   },
   "outputs": [],
   "source": [
    "# redefine categorical columns\n",
    "\n",
    "categorical = ['occupation', 'channel_code', 'credit_product', 'age_cat','vintage_cat','avg_account_balance_cat']"
   ]
  },
  {
   "cell_type": "code",
   "execution_count": null,
   "metadata": {
    "execution": {
     "iopub.execute_input": "2021-10-30T21:25:53.250753Z",
     "iopub.status.busy": "2021-10-30T21:25:53.250381Z",
     "iopub.status.idle": "2021-10-30T21:25:54.804157Z",
     "shell.execute_reply": "2021-10-30T21:25:54.803232Z",
     "shell.execute_reply.started": "2021-10-30T21:25:53.250702Z"
    }
   },
   "outputs": [],
   "source": [
    "mi = df_train[categorical].apply(mutual_info_lead_score)\n",
    "mi.sort_values(ascending=False)"
   ]
  },
  {
   "cell_type": "code",
   "execution_count": null,
   "metadata": {},
   "outputs": [],
   "source": [
    "categorical = ['occupation', 'channel_code', 'credit_product', 'age_cat','vintage_cat']"
   ]
  },
  {
   "cell_type": "code",
   "execution_count": null,
   "metadata": {
    "execution": {
     "iopub.execute_input": "2021-10-30T21:25:54.806027Z",
     "iopub.status.busy": "2021-10-30T21:25:54.805732Z",
     "iopub.status.idle": "2021-10-30T21:25:59.92379Z",
     "shell.execute_reply": "2021-10-30T21:25:59.922737Z",
     "shell.execute_reply.started": "2021-10-30T21:25:54.805988Z"
    }
   },
   "outputs": [],
   "source": [
    "# make new prediction with new categorical features \n",
    "# to see the effect of feature engineering\n",
    "\n",
    "train_columns = categorical\n",
    "dv, model = train(df_train, y_train)\n",
    "y_pred = predict(df_val, dv, model)\n",
    "#accuracy_score(y_val, y_pred >= 0.5)\n",
    "roc_auc_score(y_val, y_pred) # roc_auc_score improved significantly"
   ]
  },
  {
   "cell_type": "code",
   "execution_count": null,
   "metadata": {
    "execution": {
     "iopub.execute_input": "2021-10-30T21:25:59.926028Z",
     "iopub.status.busy": "2021-10-30T21:25:59.925648Z",
     "iopub.status.idle": "2021-10-30T21:25:59.944866Z",
     "shell.execute_reply": "2021-10-30T21:25:59.943857Z",
     "shell.execute_reply.started": "2021-10-30T21:25:59.925983Z"
    }
   },
   "outputs": [],
   "source": [
    "fpr, tpr, thresholds = roc_curve(y_val, y_pred)"
   ]
  },
  {
   "cell_type": "code",
   "execution_count": null,
   "metadata": {
    "execution": {
     "iopub.execute_input": "2021-10-30T21:25:59.946828Z",
     "iopub.status.busy": "2021-10-30T21:25:59.946239Z",
     "iopub.status.idle": "2021-10-30T21:26:00.213508Z",
     "shell.execute_reply": "2021-10-30T21:26:00.212582Z",
     "shell.execute_reply.started": "2021-10-30T21:25:59.946778Z"
    }
   },
   "outputs": [],
   "source": [
    "# display improvement with new plot\n",
    "\n",
    "plt.figure(figsize=(5, 5))\n",
    "\n",
    "plt.plot(fpr, tpr, label='Model')\n",
    "plt.plot([0, 1], [0, 1], label='Random', linestyle='--')\n",
    "\n",
    "plt.xlabel('FPR')\n",
    "plt.ylabel('TPR')\n",
    "\n",
    "plt.legend()"
   ]
  },
  {
   "cell_type": "markdown",
   "metadata": {},
   "source": [
    "# Train Another Model - Decision Tree"
   ]
  },
  {
   "cell_type": "code",
   "execution_count": null,
   "metadata": {
    "execution": {
     "iopub.execute_input": "2021-10-30T21:26:00.215073Z",
     "iopub.status.busy": "2021-10-30T21:26:00.214857Z",
     "iopub.status.idle": "2021-10-30T21:26:03.324456Z",
     "shell.execute_reply": "2021-10-30T21:26:03.323823Z",
     "shell.execute_reply.started": "2021-10-30T21:26:00.215046Z"
    }
   },
   "outputs": [],
   "source": [
    "train_columns=categorical\n",
    "train_dicts = df_train[train_columns].to_dict(orient='records')\n",
    "\n",
    "dv = DictVectorizer(sparse=False)\n",
    "X_train = dv.fit_transform(train_dicts)"
   ]
  },
  {
   "cell_type": "code",
   "execution_count": null,
   "metadata": {
    "execution": {
     "iopub.execute_input": "2021-10-30T21:26:03.327174Z",
     "iopub.status.busy": "2021-10-30T21:26:03.326696Z",
     "iopub.status.idle": "2021-10-30T21:26:04.027218Z",
     "shell.execute_reply": "2021-10-30T21:26:04.026238Z",
     "shell.execute_reply.started": "2021-10-30T21:26:03.327143Z"
    }
   },
   "outputs": [],
   "source": [
    "dt = DecisionTreeClassifier()\n",
    "dt.fit(X_train, y_train)"
   ]
  },
  {
   "cell_type": "code",
   "execution_count": null,
   "metadata": {
    "execution": {
     "iopub.execute_input": "2021-10-30T21:26:04.029093Z",
     "iopub.status.busy": "2021-10-30T21:26:04.028704Z",
     "iopub.status.idle": "2021-10-30T21:26:05.073417Z",
     "shell.execute_reply": "2021-10-30T21:26:05.072402Z",
     "shell.execute_reply.started": "2021-10-30T21:26:04.029039Z"
    }
   },
   "outputs": [],
   "source": [
    "val_dicts = df_val[train_columns].to_dict(orient='records')\n",
    "X_val = dv.fit_transform(val_dicts)\n",
    "\n",
    "y_pred = dt.predict_proba(X_val)[:, 1]\n",
    "roc_auc_score(y_val, y_pred)"
   ]
  },
  {
   "cell_type": "code",
   "execution_count": null,
   "metadata": {
    "execution": {
     "iopub.execute_input": "2021-10-30T21:26:05.075482Z",
     "iopub.status.busy": "2021-10-30T21:26:05.075174Z",
     "iopub.status.idle": "2021-10-30T21:26:05.079448Z",
     "shell.execute_reply": "2021-10-30T21:26:05.078462Z",
     "shell.execute_reply.started": "2021-10-30T21:26:05.07544Z"
    }
   },
   "outputs": [],
   "source": [
    "#from sklearn.tree import export_text\n",
    "#print(export_text(dt, feature_names=dv.get_feature_names()))"
   ]
  },
  {
   "cell_type": "markdown",
   "metadata": {},
   "source": [
    "# Fine Tune Models"
   ]
  },
  {
   "cell_type": "code",
   "execution_count": null,
   "metadata": {
    "execution": {
     "iopub.execute_input": "2021-10-30T21:26:05.081156Z",
     "iopub.status.busy": "2021-10-30T21:26:05.080937Z",
     "iopub.status.idle": "2021-10-30T21:26:26.227391Z",
     "shell.execute_reply": "2021-10-30T21:26:26.22644Z",
     "shell.execute_reply.started": "2021-10-30T21:26:05.08113Z"
    }
   },
   "outputs": [],
   "source": [
    "# Fine tune Logistic Regression parameter C\n",
    "\n",
    "train_columns=categorical\n",
    "C_scores = []\n",
    "\n",
    "for C in [0.01, 0.1, 1, 10]:\n",
    "\n",
    "    dv, model = train(df_train, y_train, C=C)\n",
    "    y_pred = predict(df_val, dv, model)\n",
    "\n",
    "    auc = roc_auc_score(y_val, y_pred).round(4)\n",
    "    C_scores.append((C, auc))"
   ]
  },
  {
   "cell_type": "code",
   "execution_count": null,
   "metadata": {
    "execution": {
     "iopub.execute_input": "2021-10-30T21:26:26.232624Z",
     "iopub.status.busy": "2021-10-30T21:26:26.22876Z",
     "iopub.status.idle": "2021-10-30T21:26:26.256013Z",
     "shell.execute_reply": "2021-10-30T21:26:26.25521Z",
     "shell.execute_reply.started": "2021-10-30T21:26:26.232585Z"
    }
   },
   "outputs": [],
   "source": [
    "# choose max auc, if equal choose min C\n",
    "\n",
    "columns = ['C', 'auc']\n",
    "df_C_scores = pd.DataFrame(C_scores, columns=columns)\n",
    "df_C_scores.sort_values([\"auc\"], ascending = (False))"
   ]
  },
  {
   "cell_type": "code",
   "execution_count": null,
   "metadata": {
    "execution": {
     "iopub.execute_input": "2021-10-30T21:26:26.258015Z",
     "iopub.status.busy": "2021-10-30T21:26:26.257537Z",
     "iopub.status.idle": "2021-10-30T21:26:30.321745Z",
     "shell.execute_reply": "2021-10-30T21:26:30.320878Z",
     "shell.execute_reply.started": "2021-10-30T21:26:26.257971Z"
    }
   },
   "outputs": [],
   "source": [
    "# Fine tune Decision Tree parameters\n",
    "# Start with 'Tree Depth'\n",
    "\n",
    "depths = [1, 2, 3, 4, 5, 6, 10, 15, 20, None]\n",
    "\n",
    "for depth in depths: \n",
    "    dt = DecisionTreeClassifier(max_depth=depth)\n",
    "    dt.fit(X_train, y_train)\n",
    "    \n",
    "    y_pred = dt.predict_proba(X_val)[:, 1]\n",
    "    auc = roc_auc_score(y_val, y_pred)\n",
    "    \n",
    "    print('%4s -> %.3f' % (depth, auc))"
   ]
  },
  {
   "cell_type": "code",
   "execution_count": null,
   "metadata": {
    "execution": {
     "iopub.execute_input": "2021-10-30T21:26:30.323178Z",
     "iopub.status.busy": "2021-10-30T21:26:30.322954Z",
     "iopub.status.idle": "2021-10-30T21:26:45.1642Z",
     "shell.execute_reply": "2021-10-30T21:26:45.163202Z",
     "shell.execute_reply.started": "2021-10-30T21:26:30.32315Z"
    }
   },
   "outputs": [],
   "source": [
    "# Decide 'Tree Depth' and 'Min Leaf Samples'\n",
    "\n",
    "scores = []\n",
    "\n",
    "for depth in [5, 6, 10, 15]: # choose max auc\n",
    "    for s in [1, 5, 10, 15, 20, 100, 200, 500]:\n",
    "        dt = DecisionTreeClassifier(max_depth=depth, min_samples_leaf=s)\n",
    "        dt.fit(X_train, y_train)\n",
    "\n",
    "        y_pred = dt.predict_proba(X_val)[:, 1]\n",
    "        auc = roc_auc_score(y_val, y_pred)\n",
    "        \n",
    "        scores.append((depth, s, auc))"
   ]
  },
  {
   "cell_type": "code",
   "execution_count": null,
   "metadata": {
    "execution": {
     "iopub.execute_input": "2021-10-30T21:26:45.166434Z",
     "iopub.status.busy": "2021-10-30T21:26:45.165884Z",
     "iopub.status.idle": "2021-10-30T21:26:45.172561Z",
     "shell.execute_reply": "2021-10-30T21:26:45.171596Z",
     "shell.execute_reply.started": "2021-10-30T21:26:45.16639Z"
    }
   },
   "outputs": [],
   "source": [
    "columns = ['max_depth', 'min_samples_leaf', 'auc']\n",
    "df_scores = pd.DataFrame(scores, columns=columns)"
   ]
  },
  {
   "cell_type": "code",
   "execution_count": null,
   "metadata": {
    "execution": {
     "iopub.execute_input": "2021-10-30T21:26:45.1745Z",
     "iopub.status.busy": "2021-10-30T21:26:45.173992Z",
     "iopub.status.idle": "2021-10-30T21:26:45.211137Z",
     "shell.execute_reply": "2021-10-30T21:26:45.210355Z",
     "shell.execute_reply.started": "2021-10-30T21:26:45.174457Z"
    }
   },
   "outputs": [],
   "source": [
    "df_scores_pivot = df_scores.pivot(index='min_samples_leaf', columns='max_depth', values=['auc'])\n",
    "df_scores_pivot.round(3) # max_depth = 10 with 20 samples in leaf is choosen"
   ]
  },
  {
   "cell_type": "markdown",
   "metadata": {},
   "source": [
    "# Selecting Decision Tree as Best Model"
   ]
  },
  {
   "cell_type": "code",
   "execution_count": null,
   "metadata": {},
   "outputs": [],
   "source": [
    "def train(df, y, max_depth, min_samples_leaf):\n",
    "    dicts = df[train_columns].to_dict(orient='records')\n",
    "\n",
    "    dv = DictVectorizer(sparse=False)\n",
    "    X_train = dv.fit_transform(dicts)\n",
    "\n",
    "    model = DecisionTreeClassifier(max_depth=max_depth, min_samples_leaf=min_samples_leaf)\n",
    "    model.fit(X_train, y)\n",
    "    \n",
    "    return dv, model"
   ]
  },
  {
   "cell_type": "code",
   "execution_count": null,
   "metadata": {},
   "outputs": [],
   "source": [
    "def predict(df, dv, model):\n",
    "    dicts = df[train_columns].to_dict(orient='records')\n",
    "\n",
    "    X = dv.transform(dicts)\n",
    "    y_pred = model.predict_proba(X)[:, 1]\n",
    "\n",
    "    return y_pred"
   ]
  },
  {
   "cell_type": "code",
   "execution_count": null,
   "metadata": {
    "execution": {
     "iopub.execute_input": "2021-10-30T21:26:46.839769Z",
     "iopub.status.busy": "2021-10-30T21:26:46.839166Z",
     "iopub.status.idle": "2021-10-30T21:26:52.687589Z",
     "shell.execute_reply": "2021-10-30T21:26:52.68674Z",
     "shell.execute_reply.started": "2021-10-30T21:26:46.839731Z"
    }
   },
   "outputs": [],
   "source": [
    "# decision tree with max_depth = 10 and 20 samples in leaf is chosen\n",
    "\n",
    "train_columns=categorical\n",
    "max_depth = 10\n",
    "min_samples_leaf = 20\n",
    "\n",
    "\n",
    "full_train_dicts = df_full_train[train_columns].to_dict(orient='records')\n",
    "dv = DictVectorizer(sparse=False)\n",
    "X_full_train = dv.fit_transform(full_train_dicts)\n",
    "\n",
    "test_dicts = df_test[train_columns].to_dict(orient='records')\n",
    "X_test = dv.transform(test_dicts)\n",
    "\n",
    "\n",
    "dt = DecisionTreeClassifier(max_depth=max_depth, min_samples_leaf=min_samples_leaf)\n",
    "dt.fit(X_full_train, y_full_train)\n",
    "    \n",
    "y_pred = dt.predict_proba(X_test)[:, 1]\n",
    "auc = roc_auc_score(y_test, y_pred)\n",
    "#y_pred\n",
    "auc"
   ]
  },
  {
   "cell_type": "code",
   "execution_count": null,
   "metadata": {},
   "outputs": [],
   "source": [
    "train_columns = categorical\n",
    "max_depth = 10\n",
    "min_samples_leaf = 20\n",
    "\n",
    "dv, model = train(df_full_train, y_full_train, max_depth, min_samples_leaf)\n",
    "y_pred = predict(df_test, dv, model)\n",
    "#accuracy_score(y_val, y_pred >= 0.5)\n",
    "roc_auc_score(y_test, y_pred) # roc_auc_score improved significantly"
   ]
  },
  {
   "cell_type": "markdown",
   "metadata": {},
   "source": [
    "# Save the Model"
   ]
  },
  {
   "cell_type": "code",
   "execution_count": null,
   "metadata": {},
   "outputs": [],
   "source": [
    "output_file = f'tree_model_depth={max_depth}.bin'\n",
    "output_file"
   ]
  },
  {
   "cell_type": "code",
   "execution_count": null,
   "metadata": {},
   "outputs": [],
   "source": [
    "import pickle\n",
    "with open(output_file, 'wb') as f_out:\n",
    "    pickle.dump((dv, model), f_out)"
   ]
  }
 ],
 "metadata": {
  "kernelspec": {
   "display_name": "Python 3",
   "language": "python",
   "name": "python3"
  },
  "language_info": {
   "codemirror_mode": {
    "name": "ipython",
    "version": 3
   },
   "file_extension": ".py",
   "mimetype": "text/x-python",
   "name": "python",
   "nbconvert_exporter": "python",
   "pygments_lexer": "ipython3",
   "version": "3.8.2"
  }
 },
 "nbformat": 4,
 "nbformat_minor": 4
}
