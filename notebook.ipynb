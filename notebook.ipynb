{
 "cells": [
  {
   "cell_type": "code",
   "execution_count": 1,
   "metadata": {
    "_cell_guid": "b1076dfc-b9ad-4769-8c92-a6c4dae69d19",
    "_uuid": "8f2839f25d086af736a60e9eeb907d3b93b6e0e5",
    "execution": {
     "iopub.execute_input": "2021-10-30T21:25:39.878971Z",
     "iopub.status.busy": "2021-10-30T21:25:39.878639Z",
     "iopub.status.idle": "2021-10-30T21:25:39.888804Z",
     "shell.execute_reply": "2021-10-30T21:25:39.888164Z",
     "shell.execute_reply.started": "2021-10-30T21:25:39.878934Z"
    }
   },
   "outputs": [],
   "source": [
    "# This Python 3 environment comes with many helpful analytics libraries installed\n",
    "# It is defined by the kaggle/python Docker image: https://github.com/kaggle/docker-python\n",
    "# For example, here's several helpful packages to load\n",
    "\n",
    "import numpy as np # linear algebra\n",
    "import pandas as pd # data processing, CSV file I/O (e.g. pd.read_csv)\n",
    "\n",
    "# Input data files are available in the read-only \"../input/\" directory\n",
    "# For example, running this (by clicking run or pressing Shift+Enter) will list all files under the input directory\n",
    "\n",
    "import os\n",
    "for dirname, _, filenames in os.walk('/kaggle/input'):\n",
    "    for filename in filenames:\n",
    "        print(os.path.join(dirname, filename))        \n",
    "\n",
    "# You can write up to 20GB to the current directory (/kaggle/working/) that gets preserved as output when you create a version using \"Save & Run All\" \n",
    "# You can also write temporary files to /kaggle/temp/, but they won't be saved outside of the current session"
   ]
  },
  {
   "cell_type": "code",
   "execution_count": 2,
   "metadata": {
    "execution": {
     "iopub.execute_input": "2021-10-30T21:25:39.890689Z",
     "iopub.status.busy": "2021-10-30T21:25:39.890285Z",
     "iopub.status.idle": "2021-10-30T21:25:39.903702Z",
     "shell.execute_reply": "2021-10-30T21:25:39.902952Z",
     "shell.execute_reply.started": "2021-10-30T21:25:39.890624Z"
    }
   },
   "outputs": [],
   "source": [
    "# import usual suspects\n",
    "\n",
    "import seaborn as sns\n",
    "from matplotlib import pyplot as plt\n",
    "%matplotlib inline"
   ]
  },
  {
   "cell_type": "code",
   "execution_count": 3,
   "metadata": {
    "execution": {
     "iopub.execute_input": "2021-10-30T21:25:39.905419Z",
     "iopub.status.busy": "2021-10-30T21:25:39.905026Z",
     "iopub.status.idle": "2021-10-30T21:25:39.915893Z",
     "shell.execute_reply": "2021-10-30T21:25:39.915097Z",
     "shell.execute_reply.started": "2021-10-30T21:25:39.905373Z"
    }
   },
   "outputs": [],
   "source": [
    "# import other useful stuff\n",
    "\n",
    "from IPython.display import display\n",
    "from sklearn.metrics import mutual_info_score\n",
    "\n",
    "from sklearn.model_selection import train_test_split\n",
    "\n",
    "from sklearn.feature_extraction import DictVectorizer\n",
    "\n",
    "from sklearn.linear_model import LogisticRegression\n",
    "from sklearn.tree import DecisionTreeClassifier\n",
    "\n",
    "from sklearn.metrics import accuracy_score\n",
    "from sklearn.metrics import roc_curve\n",
    "from sklearn.metrics import roc_auc_score"
   ]
  },
  {
   "cell_type": "code",
   "execution_count": 5,
   "metadata": {
    "execution": {
     "iopub.execute_input": "2021-10-30T21:25:39.917483Z",
     "iopub.status.busy": "2021-10-30T21:25:39.916941Z",
     "iopub.status.idle": "2021-10-30T21:25:40.274317Z",
     "shell.execute_reply": "2021-10-30T21:25:40.273207Z",
     "shell.execute_reply.started": "2021-10-30T21:25:39.917448Z"
    }
   },
   "outputs": [],
   "source": [
    "# put data into data frame\n",
    "df = pd.read_csv(\"/Users/Erol/Documents/train data credit card.csv\")"
   ]
  },
  {
   "cell_type": "code",
   "execution_count": 6,
   "metadata": {
    "execution": {
     "iopub.execute_input": "2021-10-30T21:25:40.749018Z",
     "iopub.status.busy": "2021-10-30T21:25:40.748682Z",
     "iopub.status.idle": "2021-10-30T21:25:40.76447Z",
     "shell.execute_reply": "2021-10-30T21:25:40.763883Z",
     "shell.execute_reply.started": "2021-10-30T21:25:40.748974Z"
    }
   },
   "outputs": [
    {
     "data": {
      "text/html": [
       "<div>\n",
       "<style scoped>\n",
       "    .dataframe tbody tr th:only-of-type {\n",
       "        vertical-align: middle;\n",
       "    }\n",
       "\n",
       "    .dataframe tbody tr th {\n",
       "        vertical-align: top;\n",
       "    }\n",
       "\n",
       "    .dataframe thead th {\n",
       "        text-align: right;\n",
       "    }\n",
       "</style>\n",
       "<table border=\"1\" class=\"dataframe\">\n",
       "  <thead>\n",
       "    <tr style=\"text-align: right;\">\n",
       "      <th></th>\n",
       "      <th>ID</th>\n",
       "      <th>Gender</th>\n",
       "      <th>Age</th>\n",
       "      <th>Region_Code</th>\n",
       "      <th>Occupation</th>\n",
       "      <th>Channel_Code</th>\n",
       "      <th>Vintage</th>\n",
       "      <th>Credit_Product</th>\n",
       "      <th>Avg_Account_Balance</th>\n",
       "      <th>Is_Active</th>\n",
       "      <th>Is_Lead</th>\n",
       "    </tr>\n",
       "  </thead>\n",
       "  <tbody>\n",
       "    <tr>\n",
       "      <th>0</th>\n",
       "      <td>NNVBBKZB</td>\n",
       "      <td>Female</td>\n",
       "      <td>73</td>\n",
       "      <td>RG268</td>\n",
       "      <td>Other</td>\n",
       "      <td>X3</td>\n",
       "      <td>43</td>\n",
       "      <td>No</td>\n",
       "      <td>1045696</td>\n",
       "      <td>No</td>\n",
       "      <td>0</td>\n",
       "    </tr>\n",
       "    <tr>\n",
       "      <th>1</th>\n",
       "      <td>IDD62UNG</td>\n",
       "      <td>Female</td>\n",
       "      <td>30</td>\n",
       "      <td>RG277</td>\n",
       "      <td>Salaried</td>\n",
       "      <td>X1</td>\n",
       "      <td>32</td>\n",
       "      <td>No</td>\n",
       "      <td>581988</td>\n",
       "      <td>No</td>\n",
       "      <td>0</td>\n",
       "    </tr>\n",
       "    <tr>\n",
       "      <th>2</th>\n",
       "      <td>HD3DSEMC</td>\n",
       "      <td>Female</td>\n",
       "      <td>56</td>\n",
       "      <td>RG268</td>\n",
       "      <td>Self_Employed</td>\n",
       "      <td>X3</td>\n",
       "      <td>26</td>\n",
       "      <td>No</td>\n",
       "      <td>1484315</td>\n",
       "      <td>Yes</td>\n",
       "      <td>0</td>\n",
       "    </tr>\n",
       "    <tr>\n",
       "      <th>3</th>\n",
       "      <td>BF3NC7KV</td>\n",
       "      <td>Male</td>\n",
       "      <td>34</td>\n",
       "      <td>RG270</td>\n",
       "      <td>Salaried</td>\n",
       "      <td>X1</td>\n",
       "      <td>19</td>\n",
       "      <td>No</td>\n",
       "      <td>470454</td>\n",
       "      <td>No</td>\n",
       "      <td>0</td>\n",
       "    </tr>\n",
       "    <tr>\n",
       "      <th>4</th>\n",
       "      <td>TEASRWXV</td>\n",
       "      <td>Female</td>\n",
       "      <td>30</td>\n",
       "      <td>RG282</td>\n",
       "      <td>Salaried</td>\n",
       "      <td>X1</td>\n",
       "      <td>33</td>\n",
       "      <td>No</td>\n",
       "      <td>886787</td>\n",
       "      <td>No</td>\n",
       "      <td>0</td>\n",
       "    </tr>\n",
       "  </tbody>\n",
       "</table>\n",
       "</div>"
      ],
      "text/plain": [
       "         ID  Gender  Age Region_Code     Occupation Channel_Code  Vintage  \\\n",
       "0  NNVBBKZB  Female   73       RG268          Other           X3       43   \n",
       "1  IDD62UNG  Female   30       RG277       Salaried           X1       32   \n",
       "2  HD3DSEMC  Female   56       RG268  Self_Employed           X3       26   \n",
       "3  BF3NC7KV    Male   34       RG270       Salaried           X1       19   \n",
       "4  TEASRWXV  Female   30       RG282       Salaried           X1       33   \n",
       "\n",
       "  Credit_Product  Avg_Account_Balance Is_Active  Is_Lead  \n",
       "0             No              1045696        No        0  \n",
       "1             No               581988        No        0  \n",
       "2             No              1484315       Yes        0  \n",
       "3             No               470454        No        0  \n",
       "4             No               886787        No        0  "
      ]
     },
     "execution_count": 6,
     "metadata": {},
     "output_type": "execute_result"
    }
   ],
   "source": [
    "df.head()"
   ]
  },
  {
   "cell_type": "markdown",
   "metadata": {},
   "source": [
    "# Data Preparation and Data Cleaning"
   ]
  },
  {
   "cell_type": "code",
   "execution_count": 7,
   "metadata": {
    "execution": {
     "iopub.execute_input": "2021-10-30T21:25:40.771894Z",
     "iopub.status.busy": "2021-10-30T21:25:40.771283Z",
     "iopub.status.idle": "2021-10-30T21:25:40.779833Z",
     "shell.execute_reply": "2021-10-30T21:25:40.778932Z",
     "shell.execute_reply.started": "2021-10-30T21:25:40.771846Z"
    }
   },
   "outputs": [
    {
     "data": {
      "text/plain": [
       "ID                     object\n",
       "Gender                 object\n",
       "Age                     int64\n",
       "Region_Code            object\n",
       "Occupation             object\n",
       "Channel_Code           object\n",
       "Vintage                 int64\n",
       "Credit_Product         object\n",
       "Avg_Account_Balance     int64\n",
       "Is_Active              object\n",
       "Is_Lead                 int64\n",
       "dtype: object"
      ]
     },
     "execution_count": 7,
     "metadata": {},
     "output_type": "execute_result"
    }
   ],
   "source": [
    "# check column data types\n",
    "\n",
    "df.dtypes"
   ]
  },
  {
   "cell_type": "code",
   "execution_count": 8,
   "metadata": {
    "execution": {
     "iopub.execute_input": "2021-10-30T21:25:40.782289Z",
     "iopub.status.busy": "2021-10-30T21:25:40.781409Z",
     "iopub.status.idle": "2021-10-30T21:25:40.790489Z",
     "shell.execute_reply": "2021-10-30T21:25:40.789567Z",
     "shell.execute_reply.started": "2021-10-30T21:25:40.782253Z"
    }
   },
   "outputs": [],
   "source": [
    "# lower case column names\n",
    "\n",
    "df.columns = df.columns.str.lower()"
   ]
  },
  {
   "cell_type": "code",
   "execution_count": 9,
   "metadata": {
    "execution": {
     "iopub.execute_input": "2021-10-30T21:25:40.792014Z",
     "iopub.status.busy": "2021-10-30T21:25:40.791722Z",
     "iopub.status.idle": "2021-10-30T21:25:40.803608Z",
     "shell.execute_reply": "2021-10-30T21:25:40.802736Z",
     "shell.execute_reply.started": "2021-10-30T21:25:40.791965Z"
    }
   },
   "outputs": [],
   "source": [
    "# define categorical and numerical columns\n",
    "\n",
    "categorical = ['gender', 'region_code', 'occupation', 'channel_code', 'credit_product', 'is_active']\n",
    "numerical = ['age', 'vintage', 'avg_account_balance']"
   ]
  },
  {
   "cell_type": "code",
   "execution_count": 10,
   "metadata": {
    "execution": {
     "iopub.execute_input": "2021-10-30T21:25:40.805132Z",
     "iopub.status.busy": "2021-10-30T21:25:40.804887Z",
     "iopub.status.idle": "2021-10-30T21:25:42.562508Z",
     "shell.execute_reply": "2021-10-30T21:25:42.561703Z",
     "shell.execute_reply.started": "2021-10-30T21:25:40.805101Z"
    }
   },
   "outputs": [],
   "source": [
    "# lower case and eliminate space in data records\n",
    "\n",
    "for col in df[categorical].columns:\n",
    "    df[col] = df[col].str.lower().str.replace(' ', '_')"
   ]
  },
  {
   "cell_type": "code",
   "execution_count": 11,
   "metadata": {
    "execution": {
     "iopub.execute_input": "2021-10-30T21:25:42.564753Z",
     "iopub.status.busy": "2021-10-30T21:25:42.564469Z",
     "iopub.status.idle": "2021-10-30T21:25:42.763007Z",
     "shell.execute_reply": "2021-10-30T21:25:42.762086Z",
     "shell.execute_reply.started": "2021-10-30T21:25:42.564711Z"
    }
   },
   "outputs": [
    {
     "data": {
      "text/plain": [
       "id                         0\n",
       "gender                     0\n",
       "age                        0\n",
       "region_code                0\n",
       "occupation                 0\n",
       "channel_code               0\n",
       "vintage                    0\n",
       "credit_product         29325\n",
       "avg_account_balance        0\n",
       "is_active                  0\n",
       "is_lead                    0\n",
       "dtype: int64"
      ]
     },
     "execution_count": 11,
     "metadata": {},
     "output_type": "execute_result"
    }
   ],
   "source": [
    "# check null values\n",
    "\n",
    "df.isnull().sum()"
   ]
  },
  {
   "cell_type": "code",
   "execution_count": 12,
   "metadata": {
    "execution": {
     "iopub.execute_input": "2021-10-30T21:25:42.764607Z",
     "iopub.status.busy": "2021-10-30T21:25:42.764345Z",
     "iopub.status.idle": "2021-10-30T21:25:42.804464Z",
     "shell.execute_reply": "2021-10-30T21:25:42.803342Z",
     "shell.execute_reply.started": "2021-10-30T21:25:42.764577Z"
    }
   },
   "outputs": [],
   "source": [
    "# assign new category 'Unk' to null values\n",
    "\n",
    "df['credit_product'] = df['credit_product'].fillna('Unk')"
   ]
  },
  {
   "cell_type": "code",
   "execution_count": 13,
   "metadata": {
    "execution": {
     "iopub.execute_input": "2021-10-30T21:25:42.806018Z",
     "iopub.status.busy": "2021-10-30T21:25:42.805776Z",
     "iopub.status.idle": "2021-10-30T21:25:43.102468Z",
     "shell.execute_reply": "2021-10-30T21:25:43.101516Z",
     "shell.execute_reply.started": "2021-10-30T21:25:42.805988Z"
    }
   },
   "outputs": [
    {
     "name": "stdout",
     "output_type": "stream",
     "text": [
      "gender\n",
      "['female' 'male']\n",
      "2\n",
      "\n",
      "region_code\n",
      "['rg268' 'rg277' 'rg270' 'rg282' 'rg261' 'rg265' 'rg283' 'rg254' 'rg269'\n",
      " 'rg257' 'rg279' 'rg280' 'rg252' 'rg284' 'rg259' 'rg281' 'rg258' 'rg266'\n",
      " 'rg260' 'rg274' 'rg256' 'rg275' 'rg273' 'rg267' 'rg272' 'rg251' 'rg262'\n",
      " 'rg264' 'rg278' 'rg276' 'rg263' 'rg250' 'rg255' 'rg253' 'rg271']\n",
      "35\n",
      "\n",
      "occupation\n",
      "['other' 'salaried' 'self_employed' 'entrepreneur']\n",
      "4\n",
      "\n",
      "channel_code\n",
      "['x3' 'x1' 'x2' 'x4']\n",
      "4\n",
      "\n",
      "credit_product\n",
      "['no' 'Unk' 'yes']\n",
      "3\n",
      "\n",
      "is_active\n",
      "['no' 'yes']\n",
      "2\n",
      "\n"
     ]
    }
   ],
   "source": [
    "# check unique entries in categorical features\n",
    "\n",
    "for col in df[categorical].columns:\n",
    "    print(col)\n",
    "    print(df[col].unique())\n",
    "    print(df[col].nunique())\n",
    "    print()"
   ]
  },
  {
   "cell_type": "code",
   "execution_count": 14,
   "metadata": {
    "execution": {
     "iopub.execute_input": "2021-10-30T21:25:43.104943Z",
     "iopub.status.busy": "2021-10-30T21:25:43.104094Z",
     "iopub.status.idle": "2021-10-30T21:25:43.418474Z",
     "shell.execute_reply": "2021-10-30T21:25:43.417559Z",
     "shell.execute_reply.started": "2021-10-30T21:25:43.104901Z"
    }
   },
   "outputs": [
    {
     "name": "stdout",
     "output_type": "stream",
     "text": [
      "gender\n",
      "male      134197\n",
      "female    111528\n",
      "Name: gender, dtype: int64\n",
      "\n",
      "region_code\n",
      "rg268    35934\n",
      "rg283    29416\n",
      "rg254    26840\n",
      "rg284    19320\n",
      "rg277    12826\n",
      "rg280    12775\n",
      "rg269     7863\n",
      "rg270     7720\n",
      "rg261     7633\n",
      "rg257     6101\n",
      "rg251     5950\n",
      "rg282     5829\n",
      "rg274     5286\n",
      "rg272     5252\n",
      "rg281     5093\n",
      "rg273     4497\n",
      "rg252     4286\n",
      "rg279     3976\n",
      "rg263     3687\n",
      "rg275     3245\n",
      "rg260     3110\n",
      "rg256     2847\n",
      "rg264     2793\n",
      "rg276     2764\n",
      "rg259     2586\n",
      "rg250     2496\n",
      "rg255     2018\n",
      "rg258     1951\n",
      "rg253     1858\n",
      "rg278     1822\n",
      "rg262     1788\n",
      "rg266     1578\n",
      "rg265     1546\n",
      "rg271     1542\n",
      "rg267     1497\n",
      "Name: region_code, dtype: int64\n",
      "\n",
      "occupation\n",
      "self_employed    100886\n",
      "salaried          71999\n",
      "other             70173\n",
      "entrepreneur       2667\n",
      "Name: occupation, dtype: int64\n",
      "\n",
      "channel_code\n",
      "x1    103718\n",
      "x3     68712\n",
      "x2     67726\n",
      "x4      5569\n",
      "Name: channel_code, dtype: int64\n",
      "\n",
      "credit_product\n",
      "no     144357\n",
      "yes     72043\n",
      "Unk     29325\n",
      "Name: credit_product, dtype: int64\n",
      "\n",
      "is_active\n",
      "no     150290\n",
      "yes     95435\n",
      "Name: is_active, dtype: int64\n",
      "\n"
     ]
    }
   ],
   "source": [
    "# check number of unique entries represented in data\n",
    "\n",
    "for col in df[categorical].columns:\n",
    "    print(col)\n",
    "    print(df[col].value_counts())\n",
    "    print()"
   ]
  },
  {
   "cell_type": "markdown",
   "metadata": {},
   "source": [
    "# Train, Validation, Test Split"
   ]
  },
  {
   "cell_type": "code",
   "execution_count": 15,
   "metadata": {
    "execution": {
     "iopub.execute_input": "2021-10-30T21:25:43.420391Z",
     "iopub.status.busy": "2021-10-30T21:25:43.419717Z",
     "iopub.status.idle": "2021-10-30T21:25:43.670222Z",
     "shell.execute_reply": "2021-10-30T21:25:43.669397Z",
     "shell.execute_reply.started": "2021-10-30T21:25:43.420355Z"
    }
   },
   "outputs": [],
   "source": [
    "df_full_train, df_test = train_test_split(df, test_size=0.2, random_state=42)\n",
    "df_train, df_val = train_test_split(df_full_train, test_size=0.25, random_state=42)"
   ]
  },
  {
   "cell_type": "code",
   "execution_count": 16,
   "metadata": {
    "execution": {
     "iopub.execute_input": "2021-10-30T21:25:43.671846Z",
     "iopub.status.busy": "2021-10-30T21:25:43.671574Z",
     "iopub.status.idle": "2021-10-30T21:25:43.687455Z",
     "shell.execute_reply": "2021-10-30T21:25:43.686604Z",
     "shell.execute_reply.started": "2021-10-30T21:25:43.671816Z"
    }
   },
   "outputs": [
    {
     "data": {
      "text/html": [
       "<div>\n",
       "<style scoped>\n",
       "    .dataframe tbody tr th:only-of-type {\n",
       "        vertical-align: middle;\n",
       "    }\n",
       "\n",
       "    .dataframe tbody tr th {\n",
       "        vertical-align: top;\n",
       "    }\n",
       "\n",
       "    .dataframe thead th {\n",
       "        text-align: right;\n",
       "    }\n",
       "</style>\n",
       "<table border=\"1\" class=\"dataframe\">\n",
       "  <thead>\n",
       "    <tr style=\"text-align: right;\">\n",
       "      <th></th>\n",
       "      <th>id</th>\n",
       "      <th>gender</th>\n",
       "      <th>age</th>\n",
       "      <th>region_code</th>\n",
       "      <th>occupation</th>\n",
       "      <th>channel_code</th>\n",
       "      <th>vintage</th>\n",
       "      <th>credit_product</th>\n",
       "      <th>avg_account_balance</th>\n",
       "      <th>is_active</th>\n",
       "      <th>is_lead</th>\n",
       "    </tr>\n",
       "  </thead>\n",
       "  <tbody>\n",
       "    <tr>\n",
       "      <th>76936</th>\n",
       "      <td>DYPRUJEZ</td>\n",
       "      <td>female</td>\n",
       "      <td>48</td>\n",
       "      <td>rg257</td>\n",
       "      <td>self_employed</td>\n",
       "      <td>x3</td>\n",
       "      <td>15</td>\n",
       "      <td>yes</td>\n",
       "      <td>1895201</td>\n",
       "      <td>no</td>\n",
       "      <td>0</td>\n",
       "    </tr>\n",
       "    <tr>\n",
       "      <th>98532</th>\n",
       "      <td>CMMNPGBX</td>\n",
       "      <td>female</td>\n",
       "      <td>72</td>\n",
       "      <td>rg251</td>\n",
       "      <td>other</td>\n",
       "      <td>x1</td>\n",
       "      <td>32</td>\n",
       "      <td>no</td>\n",
       "      <td>614812</td>\n",
       "      <td>no</td>\n",
       "      <td>0</td>\n",
       "    </tr>\n",
       "    <tr>\n",
       "      <th>116257</th>\n",
       "      <td>7GPR8FDR</td>\n",
       "      <td>male</td>\n",
       "      <td>29</td>\n",
       "      <td>rg281</td>\n",
       "      <td>salaried</td>\n",
       "      <td>x1</td>\n",
       "      <td>21</td>\n",
       "      <td>no</td>\n",
       "      <td>1057115</td>\n",
       "      <td>yes</td>\n",
       "      <td>0</td>\n",
       "    </tr>\n",
       "    <tr>\n",
       "      <th>95211</th>\n",
       "      <td>PNIHQCNJ</td>\n",
       "      <td>male</td>\n",
       "      <td>37</td>\n",
       "      <td>rg272</td>\n",
       "      <td>self_employed</td>\n",
       "      <td>x2</td>\n",
       "      <td>38</td>\n",
       "      <td>no</td>\n",
       "      <td>762471</td>\n",
       "      <td>yes</td>\n",
       "      <td>0</td>\n",
       "    </tr>\n",
       "    <tr>\n",
       "      <th>173053</th>\n",
       "      <td>VKRGQFTM</td>\n",
       "      <td>female</td>\n",
       "      <td>57</td>\n",
       "      <td>rg251</td>\n",
       "      <td>self_employed</td>\n",
       "      <td>x1</td>\n",
       "      <td>20</td>\n",
       "      <td>no</td>\n",
       "      <td>441991</td>\n",
       "      <td>no</td>\n",
       "      <td>0</td>\n",
       "    </tr>\n",
       "  </tbody>\n",
       "</table>\n",
       "</div>"
      ],
      "text/plain": [
       "              id  gender  age region_code     occupation channel_code  \\\n",
       "76936   DYPRUJEZ  female   48       rg257  self_employed           x3   \n",
       "98532   CMMNPGBX  female   72       rg251          other           x1   \n",
       "116257  7GPR8FDR    male   29       rg281       salaried           x1   \n",
       "95211   PNIHQCNJ    male   37       rg272  self_employed           x2   \n",
       "173053  VKRGQFTM  female   57       rg251  self_employed           x1   \n",
       "\n",
       "        vintage credit_product  avg_account_balance is_active  is_lead  \n",
       "76936        15            yes              1895201        no        0  \n",
       "98532        32             no               614812        no        0  \n",
       "116257       21             no              1057115       yes        0  \n",
       "95211        38             no               762471       yes        0  \n",
       "173053       20             no               441991        no        0  "
      ]
     },
     "execution_count": 16,
     "metadata": {},
     "output_type": "execute_result"
    }
   ],
   "source": [
    "df_full_train.head()"
   ]
  },
  {
   "cell_type": "code",
   "execution_count": 17,
   "metadata": {
    "execution": {
     "iopub.execute_input": "2021-10-30T21:25:43.68946Z",
     "iopub.status.busy": "2021-10-30T21:25:43.68914Z",
     "iopub.status.idle": "2021-10-30T21:25:43.824969Z",
     "shell.execute_reply": "2021-10-30T21:25:43.824054Z",
     "shell.execute_reply.started": "2021-10-30T21:25:43.689414Z"
    }
   },
   "outputs": [],
   "source": [
    "df_full_train = df_full_train.reset_index(drop=True)\n",
    "df_train = df_train.reset_index(drop=True)\n",
    "df_val = df_val.reset_index(drop=True)\n",
    "df_test = df_test.reset_index(drop=True)"
   ]
  },
  {
   "cell_type": "code",
   "execution_count": 18,
   "metadata": {
    "execution": {
     "iopub.execute_input": "2021-10-30T21:25:43.828435Z",
     "iopub.status.busy": "2021-10-30T21:25:43.828177Z",
     "iopub.status.idle": "2021-10-30T21:25:43.834083Z",
     "shell.execute_reply": "2021-10-30T21:25:43.833146Z",
     "shell.execute_reply.started": "2021-10-30T21:25:43.828406Z"
    }
   },
   "outputs": [],
   "source": [
    "y_train = df_train['is_lead']\n",
    "y_val = df_val['is_lead']\n",
    "y_test = df_test['is_lead']"
   ]
  },
  {
   "cell_type": "code",
   "execution_count": 19,
   "metadata": {
    "execution": {
     "iopub.execute_input": "2021-10-30T21:25:43.835869Z",
     "iopub.status.busy": "2021-10-30T21:25:43.835208Z",
     "iopub.status.idle": "2021-10-30T21:25:43.847206Z",
     "shell.execute_reply": "2021-10-30T21:25:43.846506Z",
     "shell.execute_reply.started": "2021-10-30T21:25:43.835835Z"
    }
   },
   "outputs": [],
   "source": [
    "y_full_train = df_full_train['is_lead']\n",
    "del df_full_train['is_lead']\n",
    "\n",
    "del df_test['is_lead']"
   ]
  },
  {
   "cell_type": "markdown",
   "metadata": {},
   "source": [
    "# EDA & Feature Importance Analysis"
   ]
  },
  {
   "cell_type": "code",
   "execution_count": 20,
   "metadata": {
    "execution": {
     "iopub.execute_input": "2021-10-30T21:25:43.849176Z",
     "iopub.status.busy": "2021-10-30T21:25:43.848825Z",
     "iopub.status.idle": "2021-10-30T21:25:43.864207Z",
     "shell.execute_reply": "2021-10-30T21:25:43.863043Z",
     "shell.execute_reply.started": "2021-10-30T21:25:43.849131Z"
    }
   },
   "outputs": [
    {
     "data": {
      "text/plain": [
       "0    112506\n",
       "1     34929\n",
       "Name: is_lead, dtype: int64"
      ]
     },
     "execution_count": 20,
     "metadata": {},
     "output_type": "execute_result"
    }
   ],
   "source": [
    "# run EDA on train set\n",
    "# check distribution of target - 'is_lead'\n",
    "# it seems to be an unbalanced dataset\n",
    "\n",
    "df_train['is_lead'].value_counts(normalize=False)"
   ]
  },
  {
   "cell_type": "code",
   "execution_count": 21,
   "metadata": {
    "execution": {
     "iopub.execute_input": "2021-10-30T21:25:43.865999Z",
     "iopub.status.busy": "2021-10-30T21:25:43.865755Z",
     "iopub.status.idle": "2021-10-30T21:25:43.875554Z",
     "shell.execute_reply": "2021-10-30T21:25:43.874836Z",
     "shell.execute_reply.started": "2021-10-30T21:25:43.86597Z"
    }
   },
   "outputs": [
    {
     "data": {
      "text/plain": [
       "0.23691118119849425"
      ]
     },
     "execution_count": 21,
     "metadata": {},
     "output_type": "execute_result"
    }
   ],
   "source": [
    "# calculate the weight of target\n",
    "\n",
    "is_lead_overall = df_train['is_lead'].mean()\n",
    "is_lead_overall"
   ]
  },
  {
   "cell_type": "code",
   "execution_count": 22,
   "metadata": {
    "execution": {
     "iopub.execute_input": "2021-10-30T21:25:43.877041Z",
     "iopub.status.busy": "2021-10-30T21:25:43.876762Z",
     "iopub.status.idle": "2021-10-30T21:25:44.19319Z",
     "shell.execute_reply": "2021-10-30T21:25:44.192245Z",
     "shell.execute_reply.started": "2021-10-30T21:25:43.877011Z"
    }
   },
   "outputs": [
    {
     "data": {
      "text/html": [
       "<div>\n",
       "<style scoped>\n",
       "    .dataframe tbody tr th:only-of-type {\n",
       "        vertical-align: middle;\n",
       "    }\n",
       "\n",
       "    .dataframe tbody tr th {\n",
       "        vertical-align: top;\n",
       "    }\n",
       "\n",
       "    .dataframe thead th {\n",
       "        text-align: right;\n",
       "    }\n",
       "</style>\n",
       "<table border=\"1\" class=\"dataframe\">\n",
       "  <thead>\n",
       "    <tr style=\"text-align: right;\">\n",
       "      <th></th>\n",
       "      <th>mean</th>\n",
       "      <th>count</th>\n",
       "      <th>opportunity</th>\n",
       "    </tr>\n",
       "    <tr>\n",
       "      <th>gender</th>\n",
       "      <th></th>\n",
       "      <th></th>\n",
       "      <th></th>\n",
       "    </tr>\n",
       "  </thead>\n",
       "  <tbody>\n",
       "    <tr>\n",
       "      <th>male</th>\n",
       "      <td>0.265366</td>\n",
       "      <td>80387</td>\n",
       "      <td>1.120109</td>\n",
       "    </tr>\n",
       "    <tr>\n",
       "      <th>female</th>\n",
       "      <td>0.202795</td>\n",
       "      <td>67048</td>\n",
       "      <td>0.855996</td>\n",
       "    </tr>\n",
       "  </tbody>\n",
       "</table>\n",
       "</div>"
      ],
      "text/plain": [
       "            mean  count  opportunity\n",
       "gender                              \n",
       "male    0.265366  80387     1.120109\n",
       "female  0.202795  67048     0.855996"
      ]
     },
     "metadata": {},
     "output_type": "display_data"
    },
    {
     "name": "stdout",
     "output_type": "stream",
     "text": [
      "\n",
      "\n"
     ]
    },
    {
     "data": {
      "text/html": [
       "<div>\n",
       "<style scoped>\n",
       "    .dataframe tbody tr th:only-of-type {\n",
       "        vertical-align: middle;\n",
       "    }\n",
       "\n",
       "    .dataframe tbody tr th {\n",
       "        vertical-align: top;\n",
       "    }\n",
       "\n",
       "    .dataframe thead th {\n",
       "        text-align: right;\n",
       "    }\n",
       "</style>\n",
       "<table border=\"1\" class=\"dataframe\">\n",
       "  <thead>\n",
       "    <tr style=\"text-align: right;\">\n",
       "      <th></th>\n",
       "      <th>mean</th>\n",
       "      <th>count</th>\n",
       "      <th>opportunity</th>\n",
       "    </tr>\n",
       "    <tr>\n",
       "      <th>region_code</th>\n",
       "      <th></th>\n",
       "      <th></th>\n",
       "      <th></th>\n",
       "    </tr>\n",
       "  </thead>\n",
       "  <tbody>\n",
       "    <tr>\n",
       "      <th>rg283</th>\n",
       "      <td>0.300860</td>\n",
       "      <td>17666</td>\n",
       "      <td>1.269929</td>\n",
       "    </tr>\n",
       "    <tr>\n",
       "      <th>rg284</th>\n",
       "      <td>0.299474</td>\n",
       "      <td>11597</td>\n",
       "      <td>1.264077</td>\n",
       "    </tr>\n",
       "    <tr>\n",
       "      <th>rg268</th>\n",
       "      <td>0.298684</td>\n",
       "      <td>21588</td>\n",
       "      <td>1.260744</td>\n",
       "    </tr>\n",
       "    <tr>\n",
       "      <th>rg276</th>\n",
       "      <td>0.279139</td>\n",
       "      <td>1673</td>\n",
       "      <td>1.178244</td>\n",
       "    </tr>\n",
       "    <tr>\n",
       "      <th>rg253</th>\n",
       "      <td>0.268577</td>\n",
       "      <td>1117</td>\n",
       "      <td>1.133659</td>\n",
       "    </tr>\n",
       "    <tr>\n",
       "      <th>rg265</th>\n",
       "      <td>0.265439</td>\n",
       "      <td>923</td>\n",
       "      <td>1.120415</td>\n",
       "    </tr>\n",
       "    <tr>\n",
       "      <th>rg263</th>\n",
       "      <td>0.233363</td>\n",
       "      <td>2254</td>\n",
       "      <td>0.985023</td>\n",
       "    </tr>\n",
       "    <tr>\n",
       "      <th>rg258</th>\n",
       "      <td>0.232112</td>\n",
       "      <td>1146</td>\n",
       "      <td>0.979741</td>\n",
       "    </tr>\n",
       "    <tr>\n",
       "      <th>rg280</th>\n",
       "      <td>0.231495</td>\n",
       "      <td>7633</td>\n",
       "      <td>0.977138</td>\n",
       "    </tr>\n",
       "    <tr>\n",
       "      <th>rg277</th>\n",
       "      <td>0.231293</td>\n",
       "      <td>7631</td>\n",
       "      <td>0.976287</td>\n",
       "    </tr>\n",
       "    <tr>\n",
       "      <th>rg279</th>\n",
       "      <td>0.230992</td>\n",
       "      <td>2420</td>\n",
       "      <td>0.975014</td>\n",
       "    </tr>\n",
       "    <tr>\n",
       "      <th>rg273</th>\n",
       "      <td>0.227848</td>\n",
       "      <td>2686</td>\n",
       "      <td>0.961745</td>\n",
       "    </tr>\n",
       "    <tr>\n",
       "      <th>rg251</th>\n",
       "      <td>0.224951</td>\n",
       "      <td>3583</td>\n",
       "      <td>0.949517</td>\n",
       "    </tr>\n",
       "    <tr>\n",
       "      <th>rg269</th>\n",
       "      <td>0.224642</td>\n",
       "      <td>4683</td>\n",
       "      <td>0.948213</td>\n",
       "    </tr>\n",
       "    <tr>\n",
       "      <th>rg255</th>\n",
       "      <td>0.222589</td>\n",
       "      <td>1213</td>\n",
       "      <td>0.939545</td>\n",
       "    </tr>\n",
       "    <tr>\n",
       "      <th>rg272</th>\n",
       "      <td>0.221455</td>\n",
       "      <td>3188</td>\n",
       "      <td>0.934762</td>\n",
       "    </tr>\n",
       "    <tr>\n",
       "      <th>rg281</th>\n",
       "      <td>0.218954</td>\n",
       "      <td>3060</td>\n",
       "      <td>0.924204</td>\n",
       "    </tr>\n",
       "    <tr>\n",
       "      <th>rg278</th>\n",
       "      <td>0.218778</td>\n",
       "      <td>1097</td>\n",
       "      <td>0.923462</td>\n",
       "    </tr>\n",
       "    <tr>\n",
       "      <th>rg254</th>\n",
       "      <td>0.215044</td>\n",
       "      <td>16192</td>\n",
       "      <td>0.907701</td>\n",
       "    </tr>\n",
       "    <tr>\n",
       "      <th>rg260</th>\n",
       "      <td>0.204082</td>\n",
       "      <td>1862</td>\n",
       "      <td>0.861427</td>\n",
       "    </tr>\n",
       "    <tr>\n",
       "      <th>rg259</th>\n",
       "      <td>0.191984</td>\n",
       "      <td>1547</td>\n",
       "      <td>0.810365</td>\n",
       "    </tr>\n",
       "    <tr>\n",
       "      <th>rg257</th>\n",
       "      <td>0.191773</td>\n",
       "      <td>3671</td>\n",
       "      <td>0.809474</td>\n",
       "    </tr>\n",
       "    <tr>\n",
       "      <th>rg282</th>\n",
       "      <td>0.187500</td>\n",
       "      <td>3440</td>\n",
       "      <td>0.791436</td>\n",
       "    </tr>\n",
       "    <tr>\n",
       "      <th>rg262</th>\n",
       "      <td>0.177588</td>\n",
       "      <td>1053</td>\n",
       "      <td>0.749597</td>\n",
       "    </tr>\n",
       "    <tr>\n",
       "      <th>rg275</th>\n",
       "      <td>0.168210</td>\n",
       "      <td>1944</td>\n",
       "      <td>0.710012</td>\n",
       "    </tr>\n",
       "    <tr>\n",
       "      <th>rg274</th>\n",
       "      <td>0.165874</td>\n",
       "      <td>3153</td>\n",
       "      <td>0.700152</td>\n",
       "    </tr>\n",
       "    <tr>\n",
       "      <th>rg250</th>\n",
       "      <td>0.165003</td>\n",
       "      <td>1503</td>\n",
       "      <td>0.696478</td>\n",
       "    </tr>\n",
       "    <tr>\n",
       "      <th>rg271</th>\n",
       "      <td>0.164246</td>\n",
       "      <td>895</td>\n",
       "      <td>0.693280</td>\n",
       "    </tr>\n",
       "    <tr>\n",
       "      <th>rg261</th>\n",
       "      <td>0.161671</td>\n",
       "      <td>4571</td>\n",
       "      <td>0.682414</td>\n",
       "    </tr>\n",
       "    <tr>\n",
       "      <th>rg256</th>\n",
       "      <td>0.145540</td>\n",
       "      <td>1704</td>\n",
       "      <td>0.614323</td>\n",
       "    </tr>\n",
       "    <tr>\n",
       "      <th>rg252</th>\n",
       "      <td>0.143406</td>\n",
       "      <td>2601</td>\n",
       "      <td>0.605317</td>\n",
       "    </tr>\n",
       "    <tr>\n",
       "      <th>rg270</th>\n",
       "      <td>0.140928</td>\n",
       "      <td>4591</td>\n",
       "      <td>0.594855</td>\n",
       "    </tr>\n",
       "    <tr>\n",
       "      <th>rg264</th>\n",
       "      <td>0.140176</td>\n",
       "      <td>1705</td>\n",
       "      <td>0.591681</td>\n",
       "    </tr>\n",
       "    <tr>\n",
       "      <th>rg266</th>\n",
       "      <td>0.138859</td>\n",
       "      <td>929</td>\n",
       "      <td>0.586123</td>\n",
       "    </tr>\n",
       "    <tr>\n",
       "      <th>rg267</th>\n",
       "      <td>0.138646</td>\n",
       "      <td>916</td>\n",
       "      <td>0.585225</td>\n",
       "    </tr>\n",
       "  </tbody>\n",
       "</table>\n",
       "</div>"
      ],
      "text/plain": [
       "                 mean  count  opportunity\n",
       "region_code                              \n",
       "rg283        0.300860  17666     1.269929\n",
       "rg284        0.299474  11597     1.264077\n",
       "rg268        0.298684  21588     1.260744\n",
       "rg276        0.279139   1673     1.178244\n",
       "rg253        0.268577   1117     1.133659\n",
       "rg265        0.265439    923     1.120415\n",
       "rg263        0.233363   2254     0.985023\n",
       "rg258        0.232112   1146     0.979741\n",
       "rg280        0.231495   7633     0.977138\n",
       "rg277        0.231293   7631     0.976287\n",
       "rg279        0.230992   2420     0.975014\n",
       "rg273        0.227848   2686     0.961745\n",
       "rg251        0.224951   3583     0.949517\n",
       "rg269        0.224642   4683     0.948213\n",
       "rg255        0.222589   1213     0.939545\n",
       "rg272        0.221455   3188     0.934762\n",
       "rg281        0.218954   3060     0.924204\n",
       "rg278        0.218778   1097     0.923462\n",
       "rg254        0.215044  16192     0.907701\n",
       "rg260        0.204082   1862     0.861427\n",
       "rg259        0.191984   1547     0.810365\n",
       "rg257        0.191773   3671     0.809474\n",
       "rg282        0.187500   3440     0.791436\n",
       "rg262        0.177588   1053     0.749597\n",
       "rg275        0.168210   1944     0.710012\n",
       "rg274        0.165874   3153     0.700152\n",
       "rg250        0.165003   1503     0.696478\n",
       "rg271        0.164246    895     0.693280\n",
       "rg261        0.161671   4571     0.682414\n",
       "rg256        0.145540   1704     0.614323\n",
       "rg252        0.143406   2601     0.605317\n",
       "rg270        0.140928   4591     0.594855\n",
       "rg264        0.140176   1705     0.591681\n",
       "rg266        0.138859    929     0.586123\n",
       "rg267        0.138646    916     0.585225"
      ]
     },
     "metadata": {},
     "output_type": "display_data"
    },
    {
     "name": "stdout",
     "output_type": "stream",
     "text": [
      "\n",
      "\n"
     ]
    },
    {
     "data": {
      "text/html": [
       "<div>\n",
       "<style scoped>\n",
       "    .dataframe tbody tr th:only-of-type {\n",
       "        vertical-align: middle;\n",
       "    }\n",
       "\n",
       "    .dataframe tbody tr th {\n",
       "        vertical-align: top;\n",
       "    }\n",
       "\n",
       "    .dataframe thead th {\n",
       "        text-align: right;\n",
       "    }\n",
       "</style>\n",
       "<table border=\"1\" class=\"dataframe\">\n",
       "  <thead>\n",
       "    <tr style=\"text-align: right;\">\n",
       "      <th></th>\n",
       "      <th>mean</th>\n",
       "      <th>count</th>\n",
       "      <th>opportunity</th>\n",
       "    </tr>\n",
       "    <tr>\n",
       "      <th>occupation</th>\n",
       "      <th></th>\n",
       "      <th></th>\n",
       "      <th></th>\n",
       "    </tr>\n",
       "  </thead>\n",
       "  <tbody>\n",
       "    <tr>\n",
       "      <th>entrepreneur</th>\n",
       "      <td>0.661280</td>\n",
       "      <td>1609</td>\n",
       "      <td>2.791258</td>\n",
       "    </tr>\n",
       "    <tr>\n",
       "      <th>self_employed</th>\n",
       "      <td>0.275159</td>\n",
       "      <td>60525</td>\n",
       "      <td>1.161444</td>\n",
       "    </tr>\n",
       "    <tr>\n",
       "      <th>other</th>\n",
       "      <td>0.243956</td>\n",
       "      <td>42192</td>\n",
       "      <td>1.029737</td>\n",
       "    </tr>\n",
       "    <tr>\n",
       "      <th>salaried</th>\n",
       "      <td>0.160477</td>\n",
       "      <td>43109</td>\n",
       "      <td>0.677372</td>\n",
       "    </tr>\n",
       "  </tbody>\n",
       "</table>\n",
       "</div>"
      ],
      "text/plain": [
       "                   mean  count  opportunity\n",
       "occupation                                 \n",
       "entrepreneur   0.661280   1609     2.791258\n",
       "self_employed  0.275159  60525     1.161444\n",
       "other          0.243956  42192     1.029737\n",
       "salaried       0.160477  43109     0.677372"
      ]
     },
     "metadata": {},
     "output_type": "display_data"
    },
    {
     "name": "stdout",
     "output_type": "stream",
     "text": [
      "\n",
      "\n"
     ]
    },
    {
     "data": {
      "text/html": [
       "<div>\n",
       "<style scoped>\n",
       "    .dataframe tbody tr th:only-of-type {\n",
       "        vertical-align: middle;\n",
       "    }\n",
       "\n",
       "    .dataframe tbody tr th {\n",
       "        vertical-align: top;\n",
       "    }\n",
       "\n",
       "    .dataframe thead th {\n",
       "        text-align: right;\n",
       "    }\n",
       "</style>\n",
       "<table border=\"1\" class=\"dataframe\">\n",
       "  <thead>\n",
       "    <tr style=\"text-align: right;\">\n",
       "      <th></th>\n",
       "      <th>mean</th>\n",
       "      <th>count</th>\n",
       "      <th>opportunity</th>\n",
       "    </tr>\n",
       "    <tr>\n",
       "      <th>channel_code</th>\n",
       "      <th></th>\n",
       "      <th></th>\n",
       "      <th></th>\n",
       "    </tr>\n",
       "  </thead>\n",
       "  <tbody>\n",
       "    <tr>\n",
       "      <th>x3</th>\n",
       "      <td>0.367916</td>\n",
       "      <td>41186</td>\n",
       "      <td>1.552971</td>\n",
       "    </tr>\n",
       "    <tr>\n",
       "      <th>x2</th>\n",
       "      <td>0.327506</td>\n",
       "      <td>40616</td>\n",
       "      <td>1.382402</td>\n",
       "    </tr>\n",
       "    <tr>\n",
       "      <th>x4</th>\n",
       "      <td>0.245441</td>\n",
       "      <td>3345</td>\n",
       "      <td>1.036004</td>\n",
       "    </tr>\n",
       "    <tr>\n",
       "      <th>x1</th>\n",
       "      <td>0.090756</td>\n",
       "      <td>62288</td>\n",
       "      <td>0.383080</td>\n",
       "    </tr>\n",
       "  </tbody>\n",
       "</table>\n",
       "</div>"
      ],
      "text/plain": [
       "                  mean  count  opportunity\n",
       "channel_code                              \n",
       "x3            0.367916  41186     1.552971\n",
       "x2            0.327506  40616     1.382402\n",
       "x4            0.245441   3345     1.036004\n",
       "x1            0.090756  62288     0.383080"
      ]
     },
     "metadata": {},
     "output_type": "display_data"
    },
    {
     "name": "stdout",
     "output_type": "stream",
     "text": [
      "\n",
      "\n"
     ]
    },
    {
     "data": {
      "text/html": [
       "<div>\n",
       "<style scoped>\n",
       "    .dataframe tbody tr th:only-of-type {\n",
       "        vertical-align: middle;\n",
       "    }\n",
       "\n",
       "    .dataframe tbody tr th {\n",
       "        vertical-align: top;\n",
       "    }\n",
       "\n",
       "    .dataframe thead th {\n",
       "        text-align: right;\n",
       "    }\n",
       "</style>\n",
       "<table border=\"1\" class=\"dataframe\">\n",
       "  <thead>\n",
       "    <tr style=\"text-align: right;\">\n",
       "      <th></th>\n",
       "      <th>mean</th>\n",
       "      <th>count</th>\n",
       "      <th>opportunity</th>\n",
       "    </tr>\n",
       "    <tr>\n",
       "      <th>credit_product</th>\n",
       "      <th></th>\n",
       "      <th></th>\n",
       "      <th></th>\n",
       "    </tr>\n",
       "  </thead>\n",
       "  <tbody>\n",
       "    <tr>\n",
       "      <th>Unk</th>\n",
       "      <td>0.851592</td>\n",
       "      <td>17553</td>\n",
       "      <td>3.594564</td>\n",
       "    </tr>\n",
       "    <tr>\n",
       "      <th>yes</th>\n",
       "      <td>0.314451</td>\n",
       "      <td>43444</td>\n",
       "      <td>1.327294</td>\n",
       "    </tr>\n",
       "    <tr>\n",
       "      <th>no</th>\n",
       "      <td>0.073116</td>\n",
       "      <td>86438</td>\n",
       "      <td>0.308622</td>\n",
       "    </tr>\n",
       "  </tbody>\n",
       "</table>\n",
       "</div>"
      ],
      "text/plain": [
       "                    mean  count  opportunity\n",
       "credit_product                              \n",
       "Unk             0.851592  17553     3.594564\n",
       "yes             0.314451  43444     1.327294\n",
       "no              0.073116  86438     0.308622"
      ]
     },
     "metadata": {},
     "output_type": "display_data"
    },
    {
     "name": "stdout",
     "output_type": "stream",
     "text": [
      "\n",
      "\n"
     ]
    },
    {
     "data": {
      "text/html": [
       "<div>\n",
       "<style scoped>\n",
       "    .dataframe tbody tr th:only-of-type {\n",
       "        vertical-align: middle;\n",
       "    }\n",
       "\n",
       "    .dataframe tbody tr th {\n",
       "        vertical-align: top;\n",
       "    }\n",
       "\n",
       "    .dataframe thead th {\n",
       "        text-align: right;\n",
       "    }\n",
       "</style>\n",
       "<table border=\"1\" class=\"dataframe\">\n",
       "  <thead>\n",
       "    <tr style=\"text-align: right;\">\n",
       "      <th></th>\n",
       "      <th>mean</th>\n",
       "      <th>count</th>\n",
       "      <th>opportunity</th>\n",
       "    </tr>\n",
       "    <tr>\n",
       "      <th>is_active</th>\n",
       "      <th></th>\n",
       "      <th></th>\n",
       "      <th></th>\n",
       "    </tr>\n",
       "  </thead>\n",
       "  <tbody>\n",
       "    <tr>\n",
       "      <th>yes</th>\n",
       "      <td>0.282973</td>\n",
       "      <td>57175</td>\n",
       "      <td>1.194428</td>\n",
       "    </tr>\n",
       "    <tr>\n",
       "      <th>no</th>\n",
       "      <td>0.207733</td>\n",
       "      <td>90260</td>\n",
       "      <td>0.876840</td>\n",
       "    </tr>\n",
       "  </tbody>\n",
       "</table>\n",
       "</div>"
      ],
      "text/plain": [
       "               mean  count  opportunity\n",
       "is_active                              \n",
       "yes        0.282973  57175     1.194428\n",
       "no         0.207733  90260     0.876840"
      ]
     },
     "metadata": {},
     "output_type": "display_data"
    },
    {
     "name": "stdout",
     "output_type": "stream",
     "text": [
      "\n",
      "\n"
     ]
    }
   ],
   "source": [
    "# check categories' target distribution to gain insight about data\n",
    "# gender and occupation can be mildly important\n",
    "# whereas some of the regions seem important\n",
    "# as well as channel code  \n",
    "# and not having a credit product\n",
    "\n",
    "for c in categorical:\n",
    "    df_group = df_train.groupby(c)['is_lead'].agg(['mean', 'count'])\n",
    "    df_group['opportunity'] = df_group['mean'] / is_lead_overall\n",
    "    display(df_group.sort_values(by='mean', ascending=False))\n",
    "    print()\n",
    "    print()"
   ]
  },
  {
   "cell_type": "code",
   "execution_count": 23,
   "metadata": {
    "execution": {
     "iopub.execute_input": "2021-10-30T21:25:44.194817Z",
     "iopub.status.busy": "2021-10-30T21:25:44.194389Z",
     "iopub.status.idle": "2021-10-30T21:25:44.199576Z",
     "shell.execute_reply": "2021-10-30T21:25:44.198732Z",
     "shell.execute_reply.started": "2021-10-30T21:25:44.194778Z"
    }
   },
   "outputs": [],
   "source": [
    "# check mutual_info_score\n",
    "\n",
    "def mutual_info_lead_score(series):\n",
    "    return mutual_info_score(series, df_train['is_lead'])"
   ]
  },
  {
   "cell_type": "code",
   "execution_count": 24,
   "metadata": {
    "execution": {
     "iopub.execute_input": "2021-10-30T21:25:44.201184Z",
     "iopub.status.busy": "2021-10-30T21:25:44.200953Z",
     "iopub.status.idle": "2021-10-30T21:25:46.382428Z",
     "shell.execute_reply": "2021-10-30T21:25:46.381537Z",
     "shell.execute_reply.started": "2021-10-30T21:25:44.201154Z"
    }
   },
   "outputs": [
    {
     "data": {
      "text/plain": [
       "credit_product    0.160649\n",
       "channel_code      0.048314\n",
       "occupation        0.011204\n",
       "region_code       0.008029\n",
       "is_active         0.003669\n",
       "gender            0.002706\n",
       "dtype: float64"
      ]
     },
     "execution_count": 24,
     "metadata": {},
     "output_type": "execute_result"
    }
   ],
   "source": [
    "# having a credit product and channel code are important features\n",
    "# though region itself do not seem to matter \n",
    "\n",
    "mi = df_train[categorical].apply(mutual_info_lead_score)\n",
    "mi.sort_values(ascending=False)"
   ]
  },
  {
   "cell_type": "code",
   "execution_count": 25,
   "metadata": {
    "execution": {
     "iopub.execute_input": "2021-10-30T21:25:46.383866Z",
     "iopub.status.busy": "2021-10-30T21:25:46.383591Z",
     "iopub.status.idle": "2021-10-30T21:25:46.419476Z",
     "shell.execute_reply": "2021-10-30T21:25:46.418798Z",
     "shell.execute_reply.started": "2021-10-30T21:25:46.383836Z"
    }
   },
   "outputs": [
    {
     "data": {
      "text/html": [
       "<div>\n",
       "<style scoped>\n",
       "    .dataframe tbody tr th:only-of-type {\n",
       "        vertical-align: middle;\n",
       "    }\n",
       "\n",
       "    .dataframe tbody tr th {\n",
       "        vertical-align: top;\n",
       "    }\n",
       "\n",
       "    .dataframe thead th {\n",
       "        text-align: right;\n",
       "    }\n",
       "</style>\n",
       "<table border=\"1\" class=\"dataframe\">\n",
       "  <thead>\n",
       "    <tr style=\"text-align: right;\">\n",
       "      <th></th>\n",
       "      <th>age</th>\n",
       "      <th>vintage</th>\n",
       "      <th>avg_account_balance</th>\n",
       "    </tr>\n",
       "  </thead>\n",
       "  <tbody>\n",
       "    <tr>\n",
       "      <th>count</th>\n",
       "      <td>147435.000000</td>\n",
       "      <td>147435.000000</td>\n",
       "      <td>1.474350e+05</td>\n",
       "    </tr>\n",
       "    <tr>\n",
       "      <th>mean</th>\n",
       "      <td>43.864449</td>\n",
       "      <td>46.929677</td>\n",
       "      <td>1.129896e+06</td>\n",
       "    </tr>\n",
       "    <tr>\n",
       "      <th>std</th>\n",
       "      <td>14.843806</td>\n",
       "      <td>32.322448</td>\n",
       "      <td>8.558454e+05</td>\n",
       "    </tr>\n",
       "    <tr>\n",
       "      <th>min</th>\n",
       "      <td>23.000000</td>\n",
       "      <td>7.000000</td>\n",
       "      <td>4.565700e+04</td>\n",
       "    </tr>\n",
       "    <tr>\n",
       "      <th>25%</th>\n",
       "      <td>30.000000</td>\n",
       "      <td>20.000000</td>\n",
       "      <td>6.038910e+05</td>\n",
       "    </tr>\n",
       "    <tr>\n",
       "      <th>50%</th>\n",
       "      <td>43.000000</td>\n",
       "      <td>32.000000</td>\n",
       "      <td>8.923940e+05</td>\n",
       "    </tr>\n",
       "    <tr>\n",
       "      <th>75%</th>\n",
       "      <td>54.000000</td>\n",
       "      <td>73.000000</td>\n",
       "      <td>1.366332e+06</td>\n",
       "    </tr>\n",
       "    <tr>\n",
       "      <th>max</th>\n",
       "      <td>85.000000</td>\n",
       "      <td>135.000000</td>\n",
       "      <td>1.035201e+07</td>\n",
       "    </tr>\n",
       "  </tbody>\n",
       "</table>\n",
       "</div>"
      ],
      "text/plain": [
       "                 age        vintage  avg_account_balance\n",
       "count  147435.000000  147435.000000         1.474350e+05\n",
       "mean       43.864449      46.929677         1.129896e+06\n",
       "std        14.843806      32.322448         8.558454e+05\n",
       "min        23.000000       7.000000         4.565700e+04\n",
       "25%        30.000000      20.000000         6.038910e+05\n",
       "50%        43.000000      32.000000         8.923940e+05\n",
       "75%        54.000000      73.000000         1.366332e+06\n",
       "max        85.000000     135.000000         1.035201e+07"
      ]
     },
     "execution_count": 25,
     "metadata": {},
     "output_type": "execute_result"
    }
   ],
   "source": [
    "# check distribution of numerical values\n",
    "\n",
    "df_train[numerical].describe()"
   ]
  },
  {
   "cell_type": "code",
   "execution_count": 26,
   "metadata": {
    "execution": {
     "iopub.execute_input": "2021-10-30T21:25:46.421285Z",
     "iopub.status.busy": "2021-10-30T21:25:46.420983Z",
     "iopub.status.idle": "2021-10-30T21:25:46.802534Z",
     "shell.execute_reply": "2021-10-30T21:25:46.801714Z",
     "shell.execute_reply.started": "2021-10-30T21:25:46.421243Z"
    }
   },
   "outputs": [
    {
     "data": {
      "text/plain": [
       "<matplotlib.axes._subplots.AxesSubplot at 0x1276b3640>"
      ]
     },
     "execution_count": 26,
     "metadata": {},
     "output_type": "execute_result"
    },
    {
     "data": {
      "image/png": "[encoded data removed]",
      "text/plain": [
       "<Figure size 432x288 with 1 Axes>"
      ]
     },
     "metadata": {
      "needs_background": "light"
     },
     "output_type": "display_data"
    }
   ],
   "source": [
    "sns.histplot(data=df_train, x=\"age\")"
   ]
  },
  {
   "cell_type": "code",
   "execution_count": 27,
   "metadata": {
    "execution": {
     "iopub.execute_input": "2021-10-30T21:25:46.804621Z",
     "iopub.status.busy": "2021-10-30T21:25:46.804353Z",
     "iopub.status.idle": "2021-10-30T21:25:47.197511Z",
     "shell.execute_reply": "2021-10-30T21:25:47.196045Z",
     "shell.execute_reply.started": "2021-10-30T21:25:46.804573Z"
    }
   },
   "outputs": [
    {
     "data": {
      "text/plain": [
       "<matplotlib.axes._subplots.AxesSubplot at 0x12ab3a4f0>"
      ]
     },
     "execution_count": 27,
     "metadata": {},
     "output_type": "execute_result"
    },
    {
     "data": {
      "image/png": "[encoded data removed]",
      "text/plain": [
       "<Figure size 432x288 with 1 Axes>"
      ]
     },
     "metadata": {
      "needs_background": "light"
     },
     "output_type": "display_data"
    }
   ],
   "source": [
    "sns.histplot(data=df_train, x=\"vintage\")"
   ]
  },
  {
   "cell_type": "code",
   "execution_count": 28,
   "metadata": {
    "execution": {
     "iopub.execute_input": "2021-10-30T21:25:47.199964Z",
     "iopub.status.busy": "2021-10-30T21:25:47.199288Z",
     "iopub.status.idle": "2021-10-30T21:25:48.21886Z",
     "shell.execute_reply": "2021-10-30T21:25:48.218009Z",
     "shell.execute_reply.started": "2021-10-30T21:25:47.199791Z"
    }
   },
   "outputs": [
    {
     "data": {
      "text/plain": [
       "<matplotlib.axes._subplots.AxesSubplot at 0x12af131f0>"
      ]
     },
     "execution_count": 28,
     "metadata": {},
     "output_type": "execute_result"
    },
    {
     "data": {
      "image/png": "[encoded data removed]",
      "text/plain": [
       "<Figure size 432x288 with 1 Axes>"
      ]
     },
     "metadata": {
      "needs_background": "light"
     },
     "output_type": "display_data"
    }
   ],
   "source": [
    "sns.histplot(data=df_train, x=\"avg_account_balance\")"
   ]
  },
  {
   "cell_type": "code",
   "execution_count": 29,
   "metadata": {
    "execution": {
     "iopub.execute_input": "2021-10-30T21:25:48.221067Z",
     "iopub.status.busy": "2021-10-30T21:25:48.220277Z",
     "iopub.status.idle": "2021-10-30T21:25:48.536651Z",
     "shell.execute_reply": "2021-10-30T21:25:48.534731Z",
     "shell.execute_reply.started": "2021-10-30T21:25:48.221011Z"
    }
   },
   "outputs": [
    {
     "data": {
      "text/plain": [
       "<matplotlib.axes._subplots.AxesSubplot at 0x12b5155e0>"
      ]
     },
     "execution_count": 29,
     "metadata": {},
     "output_type": "execute_result"
    },
    {
     "data": {
      "image/png": "[encoded data removed]",
      "text/plain": [
       "<Figure size 432x288 with 2 Axes>"
      ]
     },
     "metadata": {
      "needs_background": "light"
     },
     "output_type": "display_data"
    }
   ],
   "source": [
    "# there is correlation between 'age' and 'vintage'\n",
    "# yet these are different features\n",
    "# therefore, there is no need to eliminate one of the features\n",
    "\n",
    "sns.heatmap(df_train[numerical].corr(),annot = True)"
   ]
  },
  {
   "cell_type": "code",
   "execution_count": 30,
   "metadata": {
    "execution": {
     "iopub.execute_input": "2021-10-30T21:25:48.538249Z",
     "iopub.status.busy": "2021-10-30T21:25:48.538026Z",
     "iopub.status.idle": "2021-10-30T21:25:48.558953Z",
     "shell.execute_reply": "2021-10-30T21:25:48.558157Z",
     "shell.execute_reply.started": "2021-10-30T21:25:48.538221Z"
    }
   },
   "outputs": [
    {
     "data": {
      "text/plain": [
       "age                    0.229895\n",
       "vintage                0.278492\n",
       "avg_account_balance    0.051835\n",
       "dtype: float64"
      ]
     },
     "execution_count": 30,
     "metadata": {},
     "output_type": "execute_result"
    }
   ],
   "source": [
    "# all numerical features seem to have effect on target\n",
    "\n",
    "df_train[numerical].corrwith(df_train['is_lead']).abs()"
   ]
  },
  {
   "cell_type": "code",
   "execution_count": 31,
   "metadata": {
    "execution": {
     "iopub.execute_input": "2021-10-30T21:25:48.56121Z",
     "iopub.status.busy": "2021-10-30T21:25:48.560385Z",
     "iopub.status.idle": "2021-10-30T21:25:48.564921Z",
     "shell.execute_reply": "2021-10-30T21:25:48.563972Z",
     "shell.execute_reply.started": "2021-10-30T21:25:48.561172Z"
    }
   },
   "outputs": [],
   "source": [
    "# eliminate less important features and redefine categorical columns\n",
    "\n",
    "categorical = ['occupation', 'channel_code', 'credit_product']"
   ]
  },
  {
   "cell_type": "code",
   "execution_count": 32,
   "metadata": {
    "execution": {
     "iopub.execute_input": "2021-10-30T21:25:48.567917Z",
     "iopub.status.busy": "2021-10-30T21:25:48.566097Z",
     "iopub.status.idle": "2021-10-30T21:25:48.57823Z",
     "shell.execute_reply": "2021-10-30T21:25:48.577471Z",
     "shell.execute_reply.started": "2021-10-30T21:25:48.567867Z"
    }
   },
   "outputs": [],
   "source": [
    "# make baseline prediction with Logistic Regression to decide to continue feature engineering\n",
    "\n",
    "# define train function\n",
    "def train(df, y, C=1.0):\n",
    "    dicts = df[train_columns].to_dict(orient='records')\n",
    "\n",
    "    dv = DictVectorizer(sparse=False)\n",
    "    X_train = dv.fit_transform(dicts)\n",
    "\n",
    "    model = LogisticRegression(solver='lbfgs', C=C, max_iter=1000)\n",
    "    model.fit(X_train, y)\n",
    "    \n",
    "    return dv, model"
   ]
  },
  {
   "cell_type": "code",
   "execution_count": 33,
   "metadata": {
    "execution": {
     "iopub.execute_input": "2021-10-30T21:25:48.579802Z",
     "iopub.status.busy": "2021-10-30T21:25:48.579174Z",
     "iopub.status.idle": "2021-10-30T21:25:48.590496Z",
     "shell.execute_reply": "2021-10-30T21:25:48.589856Z",
     "shell.execute_reply.started": "2021-10-30T21:25:48.57977Z"
    }
   },
   "outputs": [],
   "source": [
    "# define train function\n",
    "\n",
    "def predict(df, dv, model):\n",
    "    dicts = df[train_columns].to_dict(orient='records')\n",
    "\n",
    "    X = dv.transform(dicts)\n",
    "    y_pred = model.predict_proba(X)[:, 1]\n",
    "\n",
    "    return y_pred"
   ]
  },
  {
   "cell_type": "code",
   "execution_count": 34,
   "metadata": {
    "execution": {
     "iopub.execute_input": "2021-10-30T21:25:48.592241Z",
     "iopub.status.busy": "2021-10-30T21:25:48.591826Z",
     "iopub.status.idle": "2021-10-30T21:25:52.800953Z",
     "shell.execute_reply": "2021-10-30T21:25:52.800078Z",
     "shell.execute_reply.started": "2021-10-30T21:25:48.59221Z"
    }
   },
   "outputs": [
    {
     "data": {
      "text/plain": [
       "0.4478617195343775"
      ]
     },
     "execution_count": 34,
     "metadata": {},
     "output_type": "execute_result"
    }
   ],
   "source": [
    "# make baseline prediction & return roc_auc_score\n",
    "\n",
    "train_columns = categorical + numerical\n",
    "dv, model = train(df_train, y_train)\n",
    "y_pred = predict(df_val, dv, model)\n",
    "#accuracy_score(y_val, y_pred >= 0.5)\n",
    "roc_auc_score(y_val, y_pred)"
   ]
  },
  {
   "cell_type": "code",
   "execution_count": 35,
   "metadata": {
    "execution": {
     "iopub.execute_input": "2021-10-30T21:25:52.803569Z",
     "iopub.status.busy": "2021-10-30T21:25:52.802797Z",
     "iopub.status.idle": "2021-10-30T21:25:52.825202Z",
     "shell.execute_reply": "2021-10-30T21:25:52.824268Z",
     "shell.execute_reply.started": "2021-10-30T21:25:52.803518Z"
    }
   },
   "outputs": [],
   "source": [
    "fpr, tpr, thresholds = roc_curve(y_val, y_pred)"
   ]
  },
  {
   "cell_type": "code",
   "execution_count": 36,
   "metadata": {
    "execution": {
     "iopub.execute_input": "2021-10-30T21:25:52.827939Z",
     "iopub.status.busy": "2021-10-30T21:25:52.827266Z",
     "iopub.status.idle": "2021-10-30T21:25:53.105334Z",
     "shell.execute_reply": "2021-10-30T21:25:53.104485Z",
     "shell.execute_reply.started": "2021-10-30T21:25:52.827888Z"
    }
   },
   "outputs": [
    {
     "data": {
      "text/plain": [
       "<matplotlib.legend.Legend at 0x11e3225e0>"
      ]
     },
     "execution_count": 36,
     "metadata": {},
     "output_type": "execute_result"
    },
    {
     "data": {
      "image/png": "[encoded data removed]",
      "text/plain": [
       "<Figure size 360x360 with 1 Axes>"
      ]
     },
     "metadata": {
      "needs_background": "light"
     },
     "output_type": "display_data"
    }
   ],
   "source": [
    "# poor performance of the base model\n",
    "\n",
    "plt.figure(figsize=(5, 5))\n",
    "\n",
    "plt.plot(fpr, tpr, label='Model')\n",
    "plt.plot([0, 1], [0, 1], label='Random', linestyle='--')\n",
    "\n",
    "plt.xlabel('FPR')\n",
    "plt.ylabel('TPR')\n",
    "\n",
    "plt.legend()"
   ]
  },
  {
   "cell_type": "markdown",
   "metadata": {},
   "source": [
    "# Feature Engineering"
   ]
  },
  {
   "cell_type": "code",
   "execution_count": 125,
   "metadata": {
    "execution": {
     "iopub.execute_input": "2021-10-30T21:25:53.106739Z",
     "iopub.status.busy": "2021-10-30T21:25:53.106476Z",
     "iopub.status.idle": "2021-10-30T21:25:53.135903Z",
     "shell.execute_reply": "2021-10-30T21:25:53.135051Z",
     "shell.execute_reply.started": "2021-10-30T21:25:53.106692Z"
    }
   },
   "outputs": [],
   "source": [
    "# group 'age' under 'age_cat' feature\n",
    "# group 'vintage' under 'vintage_cat' feature\n",
    "# group 'avg_account_balance' under 'avg_account_balance_cat' feature\n",
    "\n",
    "def cat(df):\n",
    "    df['age_cat'] = pd.cut(df['age'],bins=[20,29,39,49,59,69,79,89],\n",
    "       labels=['20-29','30-39','40-49','50-59','60-69','70-79','80-89'])\n",
    "    df['vintage_cat'] = pd.cut(df['vintage'],bins=[0,19,39,59,79,99,119,139],\n",
    "       labels=['0-19','20-39','40-59','60-79','80-99','100-119','120-139'])\n",
    "    df['avg_account_balance_cat'] = pd.qcut(df['avg_account_balance'], q=10, \n",
    "                                                  labels=['0','1','2','3','4','5','6','7','8','9'])"
   ]
  },
  {
   "cell_type": "code",
   "execution_count": null,
   "metadata": {},
   "outputs": [],
   "source": [
    "cat(df_train)\n",
    "cat(df_val)\n",
    "cat(df_test)\n",
    "cat(df_full_train)"
   ]
  },
  {
   "cell_type": "code",
   "execution_count": 126,
   "metadata": {
    "execution": {
     "iopub.execute_input": "2021-10-30T21:25:53.244957Z",
     "iopub.status.busy": "2021-10-30T21:25:53.244681Z",
     "iopub.status.idle": "2021-10-30T21:25:53.24908Z",
     "shell.execute_reply": "2021-10-30T21:25:53.248331Z",
     "shell.execute_reply.started": "2021-10-30T21:25:53.244927Z"
    }
   },
   "outputs": [],
   "source": [
    "# redefine categorical columns\n",
    "\n",
    "categorical = ['occupation', 'channel_code', 'credit_product', 'age_cat','vintage_cat','avg_account_balance_cat']"
   ]
  },
  {
   "cell_type": "code",
   "execution_count": 127,
   "metadata": {
    "execution": {
     "iopub.execute_input": "2021-10-30T21:25:53.250753Z",
     "iopub.status.busy": "2021-10-30T21:25:53.250381Z",
     "iopub.status.idle": "2021-10-30T21:25:54.804157Z",
     "shell.execute_reply": "2021-10-30T21:25:54.803232Z",
     "shell.execute_reply.started": "2021-10-30T21:25:53.250702Z"
    }
   },
   "outputs": [
    {
     "data": {
      "text/plain": [
       "credit_product             0.160649\n",
       "channel_code               0.048314\n",
       "vintage_cat                0.044572\n",
       "age_cat                    0.044396\n",
       "occupation                 0.011204\n",
       "avg_account_balance_cat    0.002919\n",
       "dtype: float64"
      ]
     },
     "execution_count": 127,
     "metadata": {},
     "output_type": "execute_result"
    }
   ],
   "source": [
    "mi = df_train[categorical].apply(mutual_info_lead_score)\n",
    "mi.sort_values(ascending=False)"
   ]
  },
  {
   "cell_type": "code",
   "execution_count": 128,
   "metadata": {},
   "outputs": [],
   "source": [
    "categorical = ['occupation', 'channel_code', 'credit_product', 'age_cat','vintage_cat']"
   ]
  },
  {
   "cell_type": "code",
   "execution_count": 59,
   "metadata": {
    "execution": {
     "iopub.execute_input": "2021-10-30T21:25:54.806027Z",
     "iopub.status.busy": "2021-10-30T21:25:54.805732Z",
     "iopub.status.idle": "2021-10-30T21:25:59.92379Z",
     "shell.execute_reply": "2021-10-30T21:25:59.922737Z",
     "shell.execute_reply.started": "2021-10-30T21:25:54.805988Z"
    }
   },
   "outputs": [
    {
     "data": {
      "text/plain": [
       "0.8644608270385954"
      ]
     },
     "execution_count": 59,
     "metadata": {},
     "output_type": "execute_result"
    }
   ],
   "source": [
    "# make new prediction with new categorical features \n",
    "# to see the effect of feature engineering\n",
    "\n",
    "train_columns = categorical\n",
    "dv, model = train(df_train, y_train)\n",
    "y_pred = predict(df_val, dv, model)\n",
    "#accuracy_score(y_val, y_pred >= 0.5)\n",
    "roc_auc_score(y_val, y_pred) # roc_auc_score improved significantly"
   ]
  },
  {
   "cell_type": "code",
   "execution_count": 60,
   "metadata": {
    "execution": {
     "iopub.execute_input": "2021-10-30T21:25:59.926028Z",
     "iopub.status.busy": "2021-10-30T21:25:59.925648Z",
     "iopub.status.idle": "2021-10-30T21:25:59.944866Z",
     "shell.execute_reply": "2021-10-30T21:25:59.943857Z",
     "shell.execute_reply.started": "2021-10-30T21:25:59.925983Z"
    }
   },
   "outputs": [],
   "source": [
    "fpr, tpr, thresholds = roc_curve(y_val, y_pred)"
   ]
  },
  {
   "cell_type": "code",
   "execution_count": 61,
   "metadata": {
    "execution": {
     "iopub.execute_input": "2021-10-30T21:25:59.946828Z",
     "iopub.status.busy": "2021-10-30T21:25:59.946239Z",
     "iopub.status.idle": "2021-10-30T21:26:00.213508Z",
     "shell.execute_reply": "2021-10-30T21:26:00.212582Z",
     "shell.execute_reply.started": "2021-10-30T21:25:59.946778Z"
    }
   },
   "outputs": [
    {
     "data": {
      "text/plain": [
       "<matplotlib.legend.Legend at 0x12bbc9910>"
      ]
     },
     "execution_count": 61,
     "metadata": {},
     "output_type": "execute_result"
    },
    {
     "data": {
      "image/png": "[encoded data removed]",
      "text/plain": [
       "<Figure size 360x360 with 1 Axes>"
      ]
     },
     "metadata": {
      "needs_background": "light"
     },
     "output_type": "display_data"
    }
   ],
   "source": [
    "# display improvement with new plot\n",
    "\n",
    "plt.figure(figsize=(5, 5))\n",
    "\n",
    "plt.plot(fpr, tpr, label='Model')\n",
    "plt.plot([0, 1], [0, 1], label='Random', linestyle='--')\n",
    "\n",
    "plt.xlabel('FPR')\n",
    "plt.ylabel('TPR')\n",
    "\n",
    "plt.legend()"
   ]
  },
  {
   "cell_type": "markdown",
   "metadata": {},
   "source": [
    "# Train Another Model - Decision Tree"
   ]
  },
  {
   "cell_type": "code",
   "execution_count": 62,
   "metadata": {
    "execution": {
     "iopub.execute_input": "2021-10-30T21:26:00.215073Z",
     "iopub.status.busy": "2021-10-30T21:26:00.214857Z",
     "iopub.status.idle": "2021-10-30T21:26:03.324456Z",
     "shell.execute_reply": "2021-10-30T21:26:03.323823Z",
     "shell.execute_reply.started": "2021-10-30T21:26:00.215046Z"
    }
   },
   "outputs": [],
   "source": [
    "train_columns=categorical\n",
    "train_dicts = df_train[train_columns].to_dict(orient='records')\n",
    "\n",
    "dv = DictVectorizer(sparse=False)\n",
    "X_train = dv.fit_transform(train_dicts)"
   ]
  },
  {
   "cell_type": "code",
   "execution_count": 63,
   "metadata": {
    "execution": {
     "iopub.execute_input": "2021-10-30T21:26:03.327174Z",
     "iopub.status.busy": "2021-10-30T21:26:03.326696Z",
     "iopub.status.idle": "2021-10-30T21:26:04.027218Z",
     "shell.execute_reply": "2021-10-30T21:26:04.026238Z",
     "shell.execute_reply.started": "2021-10-30T21:26:03.327143Z"
    }
   },
   "outputs": [
    {
     "data": {
      "text/plain": [
       "DecisionTreeClassifier()"
      ]
     },
     "execution_count": 63,
     "metadata": {},
     "output_type": "execute_result"
    }
   ],
   "source": [
    "dt = DecisionTreeClassifier()\n",
    "dt.fit(X_train, y_train)"
   ]
  },
  {
   "cell_type": "code",
   "execution_count": 64,
   "metadata": {
    "execution": {
     "iopub.execute_input": "2021-10-30T21:26:04.029093Z",
     "iopub.status.busy": "2021-10-30T21:26:04.028704Z",
     "iopub.status.idle": "2021-10-30T21:26:05.073417Z",
     "shell.execute_reply": "2021-10-30T21:26:05.072402Z",
     "shell.execute_reply.started": "2021-10-30T21:26:04.029039Z"
    }
   },
   "outputs": [
    {
     "data": {
      "text/plain": [
       "0.8701467265504267"
      ]
     },
     "execution_count": 64,
     "metadata": {},
     "output_type": "execute_result"
    }
   ],
   "source": [
    "val_dicts = df_val[train_columns].to_dict(orient='records')\n",
    "X_val = dv.fit_transform(val_dicts)\n",
    "\n",
    "y_pred = dt.predict_proba(X_val)[:, 1]\n",
    "roc_auc_score(y_val, y_pred)"
   ]
  },
  {
   "cell_type": "code",
   "execution_count": 65,
   "metadata": {
    "execution": {
     "iopub.execute_input": "2021-10-30T21:26:05.075482Z",
     "iopub.status.busy": "2021-10-30T21:26:05.075174Z",
     "iopub.status.idle": "2021-10-30T21:26:05.079448Z",
     "shell.execute_reply": "2021-10-30T21:26:05.078462Z",
     "shell.execute_reply.started": "2021-10-30T21:26:05.07544Z"
    }
   },
   "outputs": [],
   "source": [
    "#from sklearn.tree import export_text\n",
    "#print(export_text(dt, feature_names=dv.get_feature_names()))"
   ]
  },
  {
   "cell_type": "markdown",
   "metadata": {},
   "source": [
    "# Fine Tune Models"
   ]
  },
  {
   "cell_type": "code",
   "execution_count": 66,
   "metadata": {
    "execution": {
     "iopub.execute_input": "2021-10-30T21:26:05.081156Z",
     "iopub.status.busy": "2021-10-30T21:26:05.080937Z",
     "iopub.status.idle": "2021-10-30T21:26:26.227391Z",
     "shell.execute_reply": "2021-10-30T21:26:26.22644Z",
     "shell.execute_reply.started": "2021-10-30T21:26:05.08113Z"
    }
   },
   "outputs": [],
   "source": [
    "# Fine tune Logistic Regression parameter C\n",
    "\n",
    "train_columns=categorical\n",
    "C_scores = []\n",
    "\n",
    "for C in [0.01, 0.1, 1, 10]:\n",
    "\n",
    "    dv, model = train(df_train, y_train, C=C)\n",
    "    y_pred = predict(df_val, dv, model)\n",
    "\n",
    "    auc = roc_auc_score(y_val, y_pred).round(4)\n",
    "    C_scores.append((C, auc))"
   ]
  },
  {
   "cell_type": "code",
   "execution_count": 67,
   "metadata": {
    "execution": {
     "iopub.execute_input": "2021-10-30T21:26:26.232624Z",
     "iopub.status.busy": "2021-10-30T21:26:26.22876Z",
     "iopub.status.idle": "2021-10-30T21:26:26.256013Z",
     "shell.execute_reply": "2021-10-30T21:26:26.25521Z",
     "shell.execute_reply.started": "2021-10-30T21:26:26.232585Z"
    }
   },
   "outputs": [
    {
     "data": {
      "text/html": [
       "<div>\n",
       "<style scoped>\n",
       "    .dataframe tbody tr th:only-of-type {\n",
       "        vertical-align: middle;\n",
       "    }\n",
       "\n",
       "    .dataframe tbody tr th {\n",
       "        vertical-align: top;\n",
       "    }\n",
       "\n",
       "    .dataframe thead th {\n",
       "        text-align: right;\n",
       "    }\n",
       "</style>\n",
       "<table border=\"1\" class=\"dataframe\">\n",
       "  <thead>\n",
       "    <tr style=\"text-align: right;\">\n",
       "      <th></th>\n",
       "      <th>C</th>\n",
       "      <th>auc</th>\n",
       "    </tr>\n",
       "  </thead>\n",
       "  <tbody>\n",
       "    <tr>\n",
       "      <th>1</th>\n",
       "      <td>0.10</td>\n",
       "      <td>0.8645</td>\n",
       "    </tr>\n",
       "    <tr>\n",
       "      <th>2</th>\n",
       "      <td>1.00</td>\n",
       "      <td>0.8645</td>\n",
       "    </tr>\n",
       "    <tr>\n",
       "      <th>3</th>\n",
       "      <td>10.00</td>\n",
       "      <td>0.8645</td>\n",
       "    </tr>\n",
       "    <tr>\n",
       "      <th>0</th>\n",
       "      <td>0.01</td>\n",
       "      <td>0.8644</td>\n",
       "    </tr>\n",
       "  </tbody>\n",
       "</table>\n",
       "</div>"
      ],
      "text/plain": [
       "       C     auc\n",
       "1   0.10  0.8645\n",
       "2   1.00  0.8645\n",
       "3  10.00  0.8645\n",
       "0   0.01  0.8644"
      ]
     },
     "execution_count": 67,
     "metadata": {},
     "output_type": "execute_result"
    }
   ],
   "source": [
    "# choose max auc, if equal choose min C\n",
    "\n",
    "columns = ['C', 'auc']\n",
    "df_C_scores = pd.DataFrame(C_scores, columns=columns)\n",
    "df_C_scores.sort_values([\"auc\"], ascending = (False))"
   ]
  },
  {
   "cell_type": "code",
   "execution_count": 68,
   "metadata": {
    "execution": {
     "iopub.execute_input": "2021-10-30T21:26:26.258015Z",
     "iopub.status.busy": "2021-10-30T21:26:26.257537Z",
     "iopub.status.idle": "2021-10-30T21:26:30.321745Z",
     "shell.execute_reply": "2021-10-30T21:26:30.320878Z",
     "shell.execute_reply.started": "2021-10-30T21:26:26.257971Z"
    }
   },
   "outputs": [
    {
     "name": "stdout",
     "output_type": "stream",
     "text": [
      "   1 -> 0.703\n",
      "   2 -> 0.818\n",
      "   3 -> 0.843\n",
      "   4 -> 0.853\n",
      "   5 -> 0.860\n",
      "   6 -> 0.865\n",
      "  10 -> 0.869\n",
      "  15 -> 0.870\n",
      "  20 -> 0.870\n",
      "None -> 0.870\n"
     ]
    }
   ],
   "source": [
    "# Fine tune Decision Tree parameters\n",
    "# Start with 'Tree Depth'\n",
    "\n",
    "depths = [1, 2, 3, 4, 5, 6, 10, 15, 20, None]\n",
    "\n",
    "for depth in depths: \n",
    "    dt = DecisionTreeClassifier(max_depth=depth)\n",
    "    dt.fit(X_train, y_train)\n",
    "    \n",
    "    y_pred = dt.predict_proba(X_val)[:, 1]\n",
    "    auc = roc_auc_score(y_val, y_pred)\n",
    "    \n",
    "    print('%4s -> %.3f' % (depth, auc))"
   ]
  },
  {
   "cell_type": "code",
   "execution_count": 69,
   "metadata": {
    "execution": {
     "iopub.execute_input": "2021-10-30T21:26:30.323178Z",
     "iopub.status.busy": "2021-10-30T21:26:30.322954Z",
     "iopub.status.idle": "2021-10-30T21:26:45.1642Z",
     "shell.execute_reply": "2021-10-30T21:26:45.163202Z",
     "shell.execute_reply.started": "2021-10-30T21:26:30.32315Z"
    }
   },
   "outputs": [],
   "source": [
    "# Decide 'Tree Depth' and 'Min Leaf Samples'\n",
    "\n",
    "scores = []\n",
    "\n",
    "for depth in [5, 6, 10, 15]: # choose max auc\n",
    "    for s in [1, 5, 10, 15, 20, 100, 200, 500]:\n",
    "        dt = DecisionTreeClassifier(max_depth=depth, min_samples_leaf=s)\n",
    "        dt.fit(X_train, y_train)\n",
    "\n",
    "        y_pred = dt.predict_proba(X_val)[:, 1]\n",
    "        auc = roc_auc_score(y_val, y_pred)\n",
    "        \n",
    "        scores.append((depth, s, auc))"
   ]
  },
  {
   "cell_type": "code",
   "execution_count": 70,
   "metadata": {
    "execution": {
     "iopub.execute_input": "2021-10-30T21:26:45.166434Z",
     "iopub.status.busy": "2021-10-30T21:26:45.165884Z",
     "iopub.status.idle": "2021-10-30T21:26:45.172561Z",
     "shell.execute_reply": "2021-10-30T21:26:45.171596Z",
     "shell.execute_reply.started": "2021-10-30T21:26:45.16639Z"
    }
   },
   "outputs": [],
   "source": [
    "columns = ['max_depth', 'min_samples_leaf', 'auc']\n",
    "df_scores = pd.DataFrame(scores, columns=columns)"
   ]
  },
  {
   "cell_type": "code",
   "execution_count": 71,
   "metadata": {
    "execution": {
     "iopub.execute_input": "2021-10-30T21:26:45.1745Z",
     "iopub.status.busy": "2021-10-30T21:26:45.173992Z",
     "iopub.status.idle": "2021-10-30T21:26:45.211137Z",
     "shell.execute_reply": "2021-10-30T21:26:45.210355Z",
     "shell.execute_reply.started": "2021-10-30T21:26:45.174457Z"
    }
   },
   "outputs": [
    {
     "data": {
      "text/html": [
       "<div>\n",
       "<style scoped>\n",
       "    .dataframe tbody tr th:only-of-type {\n",
       "        vertical-align: middle;\n",
       "    }\n",
       "\n",
       "    .dataframe tbody tr th {\n",
       "        vertical-align: top;\n",
       "    }\n",
       "\n",
       "    .dataframe thead tr th {\n",
       "        text-align: left;\n",
       "    }\n",
       "\n",
       "    .dataframe thead tr:last-of-type th {\n",
       "        text-align: right;\n",
       "    }\n",
       "</style>\n",
       "<table border=\"1\" class=\"dataframe\">\n",
       "  <thead>\n",
       "    <tr>\n",
       "      <th></th>\n",
       "      <th colspan=\"4\" halign=\"left\">auc</th>\n",
       "    </tr>\n",
       "    <tr>\n",
       "      <th>max_depth</th>\n",
       "      <th>5</th>\n",
       "      <th>6</th>\n",
       "      <th>10</th>\n",
       "      <th>15</th>\n",
       "    </tr>\n",
       "    <tr>\n",
       "      <th>min_samples_leaf</th>\n",
       "      <th></th>\n",
       "      <th></th>\n",
       "      <th></th>\n",
       "      <th></th>\n",
       "    </tr>\n",
       "  </thead>\n",
       "  <tbody>\n",
       "    <tr>\n",
       "      <th>1</th>\n",
       "      <td>0.860</td>\n",
       "      <td>0.865</td>\n",
       "      <td>0.869</td>\n",
       "      <td>0.870</td>\n",
       "    </tr>\n",
       "    <tr>\n",
       "      <th>5</th>\n",
       "      <td>0.860</td>\n",
       "      <td>0.865</td>\n",
       "      <td>0.870</td>\n",
       "      <td>0.870</td>\n",
       "    </tr>\n",
       "    <tr>\n",
       "      <th>10</th>\n",
       "      <td>0.860</td>\n",
       "      <td>0.865</td>\n",
       "      <td>0.870</td>\n",
       "      <td>0.870</td>\n",
       "    </tr>\n",
       "    <tr>\n",
       "      <th>15</th>\n",
       "      <td>0.860</td>\n",
       "      <td>0.865</td>\n",
       "      <td>0.870</td>\n",
       "      <td>0.870</td>\n",
       "    </tr>\n",
       "    <tr>\n",
       "      <th>20</th>\n",
       "      <td>0.860</td>\n",
       "      <td>0.865</td>\n",
       "      <td>0.870</td>\n",
       "      <td>0.870</td>\n",
       "    </tr>\n",
       "    <tr>\n",
       "      <th>100</th>\n",
       "      <td>0.859</td>\n",
       "      <td>0.864</td>\n",
       "      <td>0.869</td>\n",
       "      <td>0.870</td>\n",
       "    </tr>\n",
       "    <tr>\n",
       "      <th>200</th>\n",
       "      <td>0.859</td>\n",
       "      <td>0.863</td>\n",
       "      <td>0.868</td>\n",
       "      <td>0.869</td>\n",
       "    </tr>\n",
       "    <tr>\n",
       "      <th>500</th>\n",
       "      <td>0.859</td>\n",
       "      <td>0.863</td>\n",
       "      <td>0.866</td>\n",
       "      <td>0.866</td>\n",
       "    </tr>\n",
       "  </tbody>\n",
       "</table>\n",
       "</div>"
      ],
      "text/plain": [
       "                    auc                     \n",
       "max_depth            5      6      10     15\n",
       "min_samples_leaf                            \n",
       "1                 0.860  0.865  0.869  0.870\n",
       "5                 0.860  0.865  0.870  0.870\n",
       "10                0.860  0.865  0.870  0.870\n",
       "15                0.860  0.865  0.870  0.870\n",
       "20                0.860  0.865  0.870  0.870\n",
       "100               0.859  0.864  0.869  0.870\n",
       "200               0.859  0.863  0.868  0.869\n",
       "500               0.859  0.863  0.866  0.866"
      ]
     },
     "execution_count": 71,
     "metadata": {},
     "output_type": "execute_result"
    }
   ],
   "source": [
    "df_scores_pivot = df_scores.pivot(index='min_samples_leaf', columns='max_depth', values=['auc'])\n",
    "df_scores_pivot.round(3) # max_depth = 10 with 20 samples in leaf is choosen"
   ]
  },
  {
   "cell_type": "markdown",
   "metadata": {},
   "source": [
    "# Selecting Decision Tree as Best Model"
   ]
  },
  {
   "cell_type": "code",
   "execution_count": 85,
   "metadata": {},
   "outputs": [],
   "source": [
    "def train(df, y, max_depth, min_samples_leaf):\n",
    "    dicts = df[train_columns].to_dict(orient='records')\n",
    "\n",
    "    dv = DictVectorizer(sparse=False)\n",
    "    X_train = dv.fit_transform(dicts)\n",
    "\n",
    "    model = DecisionTreeClassifier(max_depth=max_depth, min_samples_leaf=min_samples_leaf)\n",
    "    model.fit(X_train, y)\n",
    "    \n",
    "    return dv, model"
   ]
  },
  {
   "cell_type": "code",
   "execution_count": 86,
   "metadata": {},
   "outputs": [],
   "source": [
    "def predict(df, dv, model):\n",
    "    dicts = df[train_columns].to_dict(orient='records')\n",
    "\n",
    "    X = dv.transform(dicts)\n",
    "    y_pred = model.predict_proba(X)[:, 1]\n",
    "\n",
    "    return y_pred"
   ]
  },
  {
   "cell_type": "code",
   "execution_count": 89,
   "metadata": {
    "execution": {
     "iopub.execute_input": "2021-10-30T21:26:46.839769Z",
     "iopub.status.busy": "2021-10-30T21:26:46.839166Z",
     "iopub.status.idle": "2021-10-30T21:26:52.687589Z",
     "shell.execute_reply": "2021-10-30T21:26:52.68674Z",
     "shell.execute_reply.started": "2021-10-30T21:26:46.839731Z"
    }
   },
   "outputs": [
    {
     "data": {
      "text/plain": [
       "0.8663289279409404"
      ]
     },
     "execution_count": 89,
     "metadata": {},
     "output_type": "execute_result"
    }
   ],
   "source": [
    "# decision tree with max_depth = 10 and 20 samples in leaf is chosen\n",
    "\n",
    "train_columns=categorical\n",
    "max_depth = 10\n",
    "min_samples_leaf = 20\n",
    "\n",
    "\n",
    "full_train_dicts = df_full_train[train_columns].to_dict(orient='records')\n",
    "dv = DictVectorizer(sparse=False)\n",
    "X_full_train = dv.fit_transform(full_train_dicts)\n",
    "\n",
    "test_dicts = df_test[train_columns].to_dict(orient='records')\n",
    "X_test = dv.transform(test_dicts)\n",
    "\n",
    "\n",
    "dt = DecisionTreeClassifier(max_depth=max_depth, min_samples_leaf=min_samples_leaf)\n",
    "dt.fit(X_full_train, y_full_train)\n",
    "    \n",
    "y_pred = dt.predict_proba(X_test)[:, 1]\n",
    "auc = roc_auc_score(y_test, y_pred)\n",
    "#y_pred\n",
    "auc"
   ]
  },
  {
   "cell_type": "code",
   "execution_count": 198,
   "metadata": {},
   "outputs": [
    {
     "data": {
      "text/plain": [
       "0.8663281358186028"
      ]
     },
     "execution_count": 198,
     "metadata": {},
     "output_type": "execute_result"
    }
   ],
   "source": [
    "train_columns = categorical\n",
    "max_depth = 10\n",
    "min_samples_leaf = 20\n",
    "\n",
    "dv, model = train(df_full_train, y_full_train, max_depth, min_samples_leaf)\n",
    "y_pred = predict(df_test, dv, model)\n",
    "#accuracy_score(y_val, y_pred >= 0.5)\n",
    "roc_auc_score(y_test, y_pred) # roc_auc_score improved significantly"
   ]
  },
  {
   "cell_type": "markdown",
   "metadata": {},
   "source": [
    "# Save the Model"
   ]
  },
  {
   "cell_type": "code",
   "execution_count": 199,
   "metadata": {},
   "outputs": [
    {
     "data": {
      "text/plain": [
       "'tree_model_depth=10.bin'"
      ]
     },
     "execution_count": 199,
     "metadata": {},
     "output_type": "execute_result"
    }
   ],
   "source": [
    "output_file = f'tree_model_depth={max_depth}.bin'\n",
    "output_file"
   ]
  },
  {
   "cell_type": "code",
   "execution_count": 200,
   "metadata": {},
   "outputs": [],
   "source": [
    "import pickle\n",
    "with open(output_file, 'wb') as f_out:\n",
    "    pickle.dump((dv, model), f_out)"
   ]
  }
 ],
 "metadata": {
  "kernelspec": {
   "display_name": "Python 3",
   "language": "python",
   "name": "python3"
  },
  "language_info": {
   "codemirror_mode": {
    "name": "ipython",
    "version": 3
   },
   "file_extension": ".py",
   "mimetype": "text/x-python",
   "name": "python",
   "nbconvert_exporter": "python",
   "pygments_lexer": "ipython3",
   "version": "3.8.2"
  }
 },
 "nbformat": 4,
 "nbformat_minor": 4
}
