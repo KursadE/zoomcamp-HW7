{
 "cells": [
  {
   "cell_type": "code",
   "execution_count": 9,
   "metadata": {},
   "outputs": [
    {
     "data": {
      "application/javascript": [
       "IPython.notebook.set_autosave_interval(0)"
      ]
     },
     "metadata": {},
     "output_type": "display_data"
    },
    {
     "name": "stdout",
     "output_type": "stream",
     "text": [
      "Autosave disabled\n"
     ]
    }
   ],
   "source": [
    "%autosave 0"
   ]
  },
  {
   "cell_type": "code",
   "execution_count": 10,
   "metadata": {},
   "outputs": [],
   "source": [
    "import requests"
   ]
  },
  {
   "cell_type": "code",
   "execution_count": 11,
   "metadata": {},
   "outputs": [
    {
     "name": "stdout",
     "output_type": "stream",
     "text": [
      "http://0.0.0.0:9696/predict\n"
     ]
    }
   ],
   "source": [
    "url = 'http://0.0.0.0:9696/predict'\n",
    "print(url)"
   ]
  },
  {
   "cell_type": "code",
   "execution_count": null,
   "metadata": {},
   "outputs": [],
   "source": [
    "customer ={\n",
    "    \"ID\": \"VH7NBNNQ\",\n",
    "    'Gender': \"Female\",\n",
    "    \"Age\": 59,\n",
    "    \"Region_Code\": \"RG283\",\n",
    "    \"Occupation\": \"Other\",\n",
    "    \"Channel_Code\": \"X3\",\n",
    "    \"Vintage\": 15,\n",
    "    \"Credit_Product\": \"Yes\",\n",
    "    \"Avg_Account_Balance\": 2384692,\n",
    "    \"Is_Active\": 'No' \n",
    "} \n"
   ]
  },
  {
   "cell_type": "code",
   "execution_count": 12,
   "metadata": {},
   "outputs": [
    {
     "name": "stdout",
     "output_type": "stream",
     "text": [
      "{'churn': True, 'churn_probability': 0.9988892771007961}\n"
     ]
    }
   ],
   "source": [
    "result = requests.post(url, json=customer).json()\n",
    "print(result)"
   ]
  },
  {
   "cell_type": "code",
   "execution_count": null,
   "metadata": {},
   "outputs": [],
   "source": []
  }
 ],
 "metadata": {
  "kernelspec": {
   "display_name": "Python 3",
   "language": "python",
   "name": "python3"
  },
  "language_info": {
   "codemirror_mode": {
    "name": "ipython",
    "version": 3
   },
   "file_extension": ".py",
   "mimetype": "text/x-python",
   "name": "python",
   "nbconvert_exporter": "python",
   "pygments_lexer": "ipython3",
   "version": "3.8.2"
  }
 },
 "nbformat": 4,
 "nbformat_minor": 4
}
